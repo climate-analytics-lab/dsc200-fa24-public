{
 "cells": [
  {
   "cell_type": "markdown",
   "id": "f0585d9a",
   "metadata": {
    "slideshow": {
     "slide_type": "slide"
    }
   },
   "source": [
    "# Lecture 1 - Introduction to DSC 200, Fall 2024\n",
    "\n",
    "**Lecture Topic**: Introduction\n",
    "\n",
    "**Instructor**: Duncan Watson-Parris"
   ]
  },
  {
   "cell_type": "markdown",
   "id": "631388bc",
   "metadata": {
    "slideshow": {
     "slide_type": "slide"
    }
   },
   "source": [
    "# Welcome to DSC 200 - Data Science Programming\n",
    "\n"
   ]
  },
  {
   "cell_type": "markdown",
   "id": "df861cd9",
   "metadata": {
    "slideshow": {
     "slide_type": "fragment"
    }
   },
   "source": [
    "### Agenda\n",
    "\n",
    "- Who are we?\n",
    "- Getting to know you\n",
    "- What is this course about, and how will it run?\n",
    "- What are the expectations?\n"
   ]
  },
  {
   "cell_type": "markdown",
   "id": "47ed50a5",
   "metadata": {
    "slideshow": {
     "slide_type": "subslide"
    }
   },
   "source": [
    "## About the Instructor:\n",
    "\n",
    "- Assistant Professor at SIO and HDSI, joined in Spring 2023\n",
    "- Harnessing machine learning to improve climate projections\n",
    "- PhD from University of Manchester 2011 in Theoretical Physics\n",
    "- Worked as a software consultant 2011-2015\n",
    "- Postdoc + Senior Postdoc at University of Oxford 2015-2023\n",
    "- Moved over from the UK with wife and two kids (11 & 13)"
   ]
  },
  {
   "cell_type": "markdown",
   "id": "c5778f38",
   "metadata": {
    "slideshow": {
     "slide_type": "subslide"
    }
   },
   "source": [
    "## Your TA:\n",
    "\n",
    "- Harin Radha-krishnan (hradhakrishnan@ucsd.edu)\n",
    "  - 2nd Year Masters student in Data Science\n",
    "  - Feel free to ask any course-related questions through EdStem\n",
    "\n",
    "- Abhisheik Jadhav (a1jadhav@ucsd.edu)\n",
    "  - Will primarily be grading assignments"
   ]
  },
  {
   "cell_type": "markdown",
   "id": "8b3d7c8b",
   "metadata": {
    "slideshow": {
     "slide_type": "subslide"
    }
   },
   "source": [
    "## Getting to Know You\n",
    "\n",
    "- Respond to the survey on sli.do\n",
    "- Event Code: #4217745\n",
    "\n",
    "This will help decide the pace and content of the course."
   ]
  },
  {
   "cell_type": "markdown",
   "id": "7cfa4d3b",
   "metadata": {
    "slideshow": {
     "slide_type": "subslide"
    }
   },
   "source": [
    "## Expectations\n",
    "\n",
    "- This is a graduate course, so please ask questions.\n",
    "- It will be hands-on so please **bring a laptop**!\n",
    "- Let me know if the pace is too fast or too slow.\n",
    "- Be respectful of staff and other learners.\n",
    "- Avoid using generative AI (e.g., ChatGPT) in assignments or projects."
   ]
  },
  {
   "cell_type": "markdown",
   "id": "9a528d46",
   "metadata": {
    "slideshow": {
     "slide_type": "subslide"
    }
   },
   "source": [
    "# Data Science Programming\n",
    "\n",
    "![](images/data_science_venn_diagram.png)"
   ]
  },
  {
   "cell_type": "markdown",
   "id": "2bc47990",
   "metadata": {
    "slideshow": {
     "slide_type": "subslide"
    }
   },
   "source": [
    "## Topics Covered\n",
    "\n",
    "- Programming basics in Python (syntax, regular expressions, etc.)\n",
    "- Pandas, NumPy, Matplotlib\n",
    "- Python scripting\n",
    "- Multi-dimensional datasets\n",
    "- Object-Oriented Programming\n",
    "- Basic data structures"
   ]
  },
  {
   "cell_type": "markdown",
   "id": "da0d70a3",
   "metadata": {
    "slideshow": {
     "slide_type": "subslide"
    }
   },
   "source": [
    "## Course Assumptions\n",
    "\n",
    "- The course assumes no prior knowledge\n",
    "- The goal is to introduce basics across a wide range of topics, not delve deeply into each.\n",
    "- If you already know more than 50% of the content, you might consider dropping the course."
   ]
  },
  {
   "cell_type": "markdown",
   "id": "e2efe858",
   "metadata": {
    "slideshow": {
     "slide_type": "subslide"
    }
   },
   "source": [
    "## Course Syllabus\n",
    "\n",
    "The course syllabus is available on Canvas. Topics covered include:\n",
    "\n",
    "- Websites used\n",
    "- Course schedule\n",
    "- Office hours\n",
    "- Grading policy\n",
    "  - Participation\n",
    "- Academic integrity policy\n",
    "\n",
    "[Canvas course link](https://canvas.ucsd.edu/courses/58852)"
   ]
  },
  {
   "cell_type": "code",
   "execution_count": null,
   "id": "340648a1",
   "metadata": {},
   "outputs": [],
   "source": []
  }
 ],
 "metadata": {
  "celltoolbar": "Slideshow",
  "kernelspec": {
   "display_name": "Python 3 (ipykernel)",
   "language": "python",
   "name": "python3"
  },
  "language_info": {
   "codemirror_mode": {
    "name": "ipython",
    "version": 3
   },
   "file_extension": ".py",
   "mimetype": "text/x-python",
   "name": "python",
   "nbconvert_exporter": "python",
   "pygments_lexer": "ipython3",
   "version": "3.9.20"
  }
 },
 "nbformat": 4,
 "nbformat_minor": 5
}
