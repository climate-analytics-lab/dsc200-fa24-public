{
 "cells": [
  {
   "cell_type": "markdown",
   "id": "f762aeea",
   "metadata": {
    "slideshow": {
     "slide_type": "slide"
    }
   },
   "source": [
    "# DSC200 - Lecture 2\n",
    "## Python Basics - part 1\n"
   ]
  },
  {
   "cell_type": "markdown",
   "id": "ffa460be",
   "metadata": {
    "slideshow": {
     "slide_type": "slide"
    }
   },
   "source": [
    "## The Python language\n",
    "\n",
    "Python is one of the most popular programming languages in world and broadly used in multiple domains: \n",
    " - data science (obviously!)\n",
    " - machine learning\n",
    " - web development\n",
    " - analytics\n",
    " - algorithms\n",
    " \n"
   ]
  },
  {
   "cell_type": "markdown",
   "id": "b48f3c07",
   "metadata": {
    "slideshow": {
     "slide_type": "subslide"
    }
   },
   "source": [
    " It is designed to have a simple syntax: no semicolons, no curly braces to denote scopes, etc. It also has:\n",
    " - dynamic typing: no need to specify datatype of a variable\n",
    " - a wide variety of existing packages: no need to re-invent the wheels\n",
    "\n",
    " Personally, Python is my go-to language for most of my projects. It is easy to learn and use, can be just as fast as other languages, and has a large and active ecosystem."
   ]
  },
  {
   "cell_type": "markdown",
   "id": "cdaa05d1",
   "metadata": {
    "slideshow": {
     "slide_type": "subslide"
    }
   },
   "source": [
    "In this course we will primarily be using the Jupyter Notebooks to write and run Python code."
   ]
  },
  {
   "cell_type": "markdown",
   "id": "dac46a16",
   "metadata": {
    "slideshow": {
     "slide_type": "fragment"
    }
   },
   "source": [
    "These versatile notebooks allow you to write and run code in cells, and also include text and images to document your code."
   ]
  },
  {
   "cell_type": "markdown",
   "id": "bd9536f6",
   "metadata": {
    "slideshow": {
     "slide_type": "fragment"
    }
   },
   "source": [
    "In fact, this lecture is written in a Jupyter Notebook! Assignments will also be submitted in this format."
   ]
  },
  {
   "cell_type": "markdown",
   "id": "0c949ac0",
   "metadata": {
    "slideshow": {
     "slide_type": "fragment"
    }
   },
   "source": [
    "Let's take a look at the DataHub interface and how to run the right instance with all the necessary packages."
   ]
  },
  {
   "cell_type": "markdown",
   "id": "d72ea362",
   "metadata": {
    "slideshow": {
     "slide_type": "subslide"
    }
   },
   "source": [
    "Notebooks are fantastic for learning and teaching, as they allow you to write code and see the output immediately."
   ]
  },
  {
   "cell_type": "markdown",
   "id": "38afb3db",
   "metadata": {
    "slideshow": {
     "slide_type": "fragment"
    }
   },
   "source": [
    "For more intensive analysis code, you may want to use a Python script, which can be run from the command line or in an IDE like PyCharm. We will cover this in a later lecture."
   ]
  },
  {
   "cell_type": "markdown",
   "id": "f574830e",
   "metadata": {
    "slideshow": {
     "slide_type": "fragment"
    }
   },
   "source": [
    "For now, I encourage you to follow along in your own Jupyter Notebook, and try out the code as we go along."
   ]
  },
  {
   "cell_type": "markdown",
   "id": "f3137240",
   "metadata": {
    "slideshow": {
     "slide_type": "subslide"
    }
   },
   "source": [
    "## Hello world"
   ]
  },
  {
   "cell_type": "markdown",
   "id": "bb0f64e5",
   "metadata": {
    "slideshow": {
     "slide_type": "fragment"
    }
   },
   "source": [
    "The first thing you learn in any programming language is how to print \"Hello, World!\" to the screen. Here's how you do it in Python:"
   ]
  },
  {
   "cell_type": "code",
   "execution_count": 1,
   "id": "3033195b",
   "metadata": {
    "slideshow": {
     "slide_type": "subslide"
    }
   },
   "outputs": [
    {
     "name": "stdout",
     "output_type": "stream",
     "text": [
      "Hello, World!\n"
     ]
    }
   ],
   "source": [
    "print(\"Hello, World!\")"
   ]
  },
  {
   "cell_type": "markdown",
   "id": "e458b734",
   "metadata": {
    "slideshow": {
     "slide_type": "fragment"
    }
   },
   "source": [
    "Note, in Python 2, you could use `print \"Hello, World!\"` but in Python 3, you would use `print(\"Hello, World!\")`. We will be using Python 3 in this course. \n",
    "\n",
    "Also, the variable doesn't need to be a string, it can be any data type."
   ]
  },
  {
   "cell_type": "markdown",
   "id": "6faee5c8",
   "metadata": {
    "slideshow": {
     "slide_type": "slide"
    }
   },
   "source": [
    "## Comments\n",
    "\n",
    "Comments are an important way to make your code more readable and clear. Any lines that start with a `#` are ignored by Python. "
   ]
  },
  {
   "cell_type": "code",
   "execution_count": 2,
   "id": "1922e5ee",
   "metadata": {
    "slideshow": {
     "slide_type": "fragment"
    }
   },
   "outputs": [
    {
     "name": "stdout",
     "output_type": "stream",
     "text": [
      "Hello, World!\n"
     ]
    }
   ],
   "source": [
    "# This is a comment\n",
    "print(\"Hello, World!\") # This is also a comment\n"
   ]
  },
  {
   "cell_type": "markdown",
   "id": "52a4ae4d",
   "metadata": {
    "slideshow": {
     "slide_type": "subslide"
    }
   },
   "source": [
    "For longer comments and documentation, you can use triple quotes:"
   ]
  },
  {
   "cell_type": "code",
   "execution_count": 3,
   "id": "2b1e5eb3",
   "metadata": {
    "slideshow": {
     "slide_type": "fragment"
    }
   },
   "outputs": [
    {
     "name": "stdout",
     "output_type": "stream",
     "text": [
      "Hello, World!\n"
     ]
    }
   ],
   "source": [
    "\"\"\"\n",
    "This is a longer comment or documentation string.\n",
    "It can span multiple lines. You can use it to describe the purpose of a function or a block of code.\n",
    "\"\"\"\n",
    "print(\"Hello, World!\")"
   ]
  },
  {
   "cell_type": "markdown",
   "id": "2ff447c8",
   "metadata": {
    "slideshow": {
     "slide_type": "subslide"
    }
   },
   "source": [
    "## Variables\n",
    "\n",
    "Variables are used to store data that can be referenced and manipulated in a program. In Python, you don't need to declare the type of a variable, it is automatically inferred.\n",
    "\n",
    "You can assign a value to a variable using the `=` operator:\n"
   ]
  },
  {
   "cell_type": "code",
   "execution_count": 4,
   "id": "f1c2ce83",
   "metadata": {
    "slideshow": {
     "slide_type": "fragment"
    }
   },
   "outputs": [],
   "source": [
    "x = 5\n",
    "y = \"Hello, World!\""
   ]
  },
  {
   "cell_type": "markdown",
   "id": "39051c63",
   "metadata": {
    "slideshow": {
     "slide_type": "subslide"
    }
   },
   "source": [
    "### Quick quiz\n",
    "\n",
    "What is the value of `y` after the following code is run?\n",
    "\n",
    "*sli.do ID: 4190516*"
   ]
  },
  {
   "cell_type": "code",
   "execution_count": 5,
   "id": "09f9678b",
   "metadata": {},
   "outputs": [],
   "source": [
    "x = 5\n",
    "y = 10\n",
    "y = x\n"
   ]
  },
  {
   "cell_type": "markdown",
   "id": "b0c43cea",
   "metadata": {
    "slideshow": {
     "slide_type": "subslide"
    }
   },
   "source": [
    "## Variables can be in a variety of types\n",
    "\n",
    "Variables can be of different types, such as integers, floats, strings, and booleans."
   ]
  },
  {
   "cell_type": "markdown",
   "id": "bc962f44",
   "metadata": {
    "slideshow": {
     "slide_type": "fragment"
    }
   },
   "source": [
    "Python offers a variety of built-in data types:\n",
    "\n",
    "- `int` for integers\n",
    "- `float` for floating-point numbers\n",
    "- `str` for strings\n",
    "- `bool` for boolean values (True or False)\n"
   ]
  },
  {
   "cell_type": "markdown",
   "id": "eed53995",
   "metadata": {
    "slideshow": {
     "slide_type": "subslide"
    }
   },
   "source": [
    "\n",
    "You can check the type of a variable using the `type()` function:"
   ]
  },
  {
   "cell_type": "code",
   "execution_count": 6,
   "id": "bec4133d",
   "metadata": {
    "slideshow": {
     "slide_type": "fragment"
    }
   },
   "outputs": [
    {
     "name": "stdout",
     "output_type": "stream",
     "text": [
      "<class 'int'>\n",
      "<class 'float'>\n",
      "<class 'str'>\n"
     ]
    }
   ],
   "source": [
    "x = 5\n",
    "y = 5.0\n",
    "z = \"Hello, World!\"\n",
    "\n",
    "print(type(x))\n",
    "print(type(y))\n",
    "print(type(z))"
   ]
  },
  {
   "cell_type": "markdown",
   "id": "60464116",
   "metadata": {
    "slideshow": {
     "slide_type": "subslide"
    }
   },
   "source": [
    "## Strings\n",
    "\n",
    "Strings are used to store text data. You can create a string by enclosing text in single or double quotes as we saw earlier. \n",
    "\n",
    "They have a number of useful methods and operations that can be used to manipulate and format them:"
   ]
  },
  {
   "cell_type": "code",
   "execution_count": 7,
   "id": "1b0ed891",
   "metadata": {
    "slideshow": {
     "slide_type": "fragment"
    }
   },
   "outputs": [
    {
     "name": "stdout",
     "output_type": "stream",
     "text": [
      "13\n",
      "HELLO, WORLD!\n",
      "Hello, world!\n",
      "hello, DSC200!\n",
      "['hello', ' world!']\n"
     ]
    }
   ],
   "source": [
    "s = \"hello, world!\"\n",
    "print(len(s)) # 13\n",
    "print(s.upper()) # HELLO, WORLD!\n",
    "print(s.capitalize()) # Hello, world!\n",
    "print(s.replace(\"world\", \"DSC200\")) # hello, DSC200!\n",
    "print(s.split(\",\")) # ['hello', ' world!']"
   ]
  },
  {
   "cell_type": "markdown",
   "id": "9b28dd21",
   "metadata": {
    "slideshow": {
     "slide_type": "subslide"
    }
   },
   "source": [
    "You can also concatenate strings using the `+` operator:"
   ]
  },
  {
   "cell_type": "code",
   "execution_count": 8,
   "id": "93b83f77",
   "metadata": {
    "slideshow": {
     "slide_type": "fragment"
    }
   },
   "outputs": [
    {
     "name": "stdout",
     "output_type": "stream",
     "text": [
      "hello world\n"
     ]
    }
   ],
   "source": [
    "s1 = \"hello\"\n",
    "s2 = \"world\"\n",
    "print(s1 + \" \" + s2) # hello world"
   ]
  },
  {
   "cell_type": "markdown",
   "id": "1c55cca5",
   "metadata": {
    "slideshow": {
     "slide_type": "subslide"
    }
   },
   "source": [
    "## Indexing and slicing\n",
    "\n",
    "Strings can be indexed and sliced using square brackets `[]`. Indexing starts at **0** in Python!"
   ]
  },
  {
   "cell_type": "code",
   "execution_count": 9,
   "id": "4e672b46",
   "metadata": {
    "slideshow": {
     "slide_type": "fragment"
    }
   },
   "outputs": [
    {
     "name": "stdout",
     "output_type": "stream",
     "text": [
      "h\n",
      "e\n"
     ]
    }
   ],
   "source": [
    "s = \"hello, world!\"\n",
    "# indexing specific characters\n",
    "print(s[0]) # h\n",
    "print(s[1]) # e\n"
   ]
  },
  {
   "cell_type": "code",
   "execution_count": 10,
   "id": "cfaa2440",
   "metadata": {
    "slideshow": {
     "slide_type": "subslide"
    }
   },
   "outputs": [
    {
     "name": "stdout",
     "output_type": "stream",
     "text": [
      "hello\n"
     ]
    }
   ],
   "source": [
    "# slicing\n",
    "print(s[0:5]) # hello"
   ]
  },
  {
   "cell_type": "code",
   "execution_count": 11,
   "id": "aff26ae1",
   "metadata": {
    "slideshow": {
     "slide_type": "fragment"
    }
   },
   "outputs": [
    {
     "name": "stdout",
     "output_type": "stream",
     "text": [
      "world!\n"
     ]
    }
   ],
   "source": [
    "# implicit start and end\n",
    "print(s[7:]) # world!\n"
   ]
  },
  {
   "cell_type": "code",
   "execution_count": 12,
   "id": "0bdf7cba",
   "metadata": {
    "slideshow": {
     "slide_type": "subslide"
    }
   },
   "outputs": [
    {
     "name": "stdout",
     "output_type": "stream",
     "text": [
      "!\n",
      "world!\n"
     ]
    }
   ],
   "source": [
    "# negative indexing\n",
    "print(s[-1]) # !\n",
    "print(s[-6:]) # world!\n"
   ]
  },
  {
   "cell_type": "code",
   "execution_count": 13,
   "id": "3499efd6",
   "metadata": {
    "slideshow": {
     "slide_type": "fragment"
    }
   },
   "outputs": [
    {
     "name": "stdout",
     "output_type": "stream",
     "text": [
      "hlo ol!\n",
      "!dlrow ,olleh\n"
     ]
    }
   ],
   "source": [
    "# step\n",
    "print(s[::2]) # hlo ol!\n",
    "print(s[::-1]) # !dlrow ,olleh"
   ]
  },
  {
   "cell_type": "markdown",
   "id": "cc8b299f",
   "metadata": {
    "slideshow": {
     "slide_type": "subslide"
    }
   },
   "source": [
    "Question 1: Suppose we want to slice a string that is stored in greetings so that sliced only has “you”.  Fill in the blank."
   ]
  },
  {
   "cell_type": "code",
   "execution_count": 14,
   "id": "28a51dcc",
   "metadata": {},
   "outputs": [
    {
     "name": "stdout",
     "output_type": "stream",
     "text": [
      "Hello, how are you?\n"
     ]
    }
   ],
   "source": [
    "greetings = \"Hello, how are you?\"\n",
    "sliced = greetings[:]\n",
    "print(sliced)"
   ]
  },
  {
   "cell_type": "markdown",
   "id": "644e6ee3",
   "metadata": {
    "slideshow": {
     "slide_type": "subslide"
    }
   },
   "source": [
    "Question 2: Given `greetings` defined above, fill in the blank below to find the index where the word “are” starts. "
   ]
  },
  {
   "cell_type": "code",
   "execution_count": null,
   "id": "35f2f60e",
   "metadata": {},
   "outputs": [],
   "source": []
  },
  {
   "cell_type": "markdown",
   "id": "311e9bda",
   "metadata": {
    "slideshow": {
     "slide_type": "slide"
    }
   },
   "source": [
    "## Other containers\n",
    "\n",
    "Python offers multiple sequence/map/set types to store multiple items in a single variable:\n",
    "\n",
    "- **sequence types**: stores multiple items in a single variable\n",
    "  - list (`[]`), tuple (`()`)\n",
    "\n",
    "- **set types**: stores multiple distinctive items in a single variable\n",
    "    - set (`{}`)\n",
    "\n",
    "- **map types**: stores multiple pairs of key-values in a single variable; and a key is mapped to a value\n",
    "    - dict (`{<key> : <value>, ...}`)\n"
   ]
  },
  {
   "cell_type": "markdown",
   "id": "cafb882d",
   "metadata": {
    "slideshow": {
     "slide_type": "slide"
    }
   },
   "source": [
    "## Lists\n",
    "\n",
    "Lists can be created in multiple ways:"
   ]
  },
  {
   "cell_type": "code",
   "execution_count": 15,
   "id": "fadea34d",
   "metadata": {
    "slideshow": {
     "slide_type": "fragment"
    }
   },
   "outputs": [],
   "source": [
    "# Declaring an empty list\n",
    "my_list = []\n",
    "# or\n",
    "my_list = list()"
   ]
  },
  {
   "cell_type": "code",
   "execution_count": 16,
   "id": "19594dfa",
   "metadata": {
    "slideshow": {
     "slide_type": "fragment"
    }
   },
   "outputs": [],
   "source": [
    "# Declaring a list with values\n",
    "my_list = [1, 2, 3, 4, 5]"
   ]
  },
  {
   "cell_type": "code",
   "execution_count": 17,
   "id": "e058f827",
   "metadata": {
    "slideshow": {
     "slide_type": "subslide"
    }
   },
   "outputs": [],
   "source": [
    "# Using an existing list\n",
    "new_list = list(my_list)\n"
   ]
  },
  {
   "cell_type": "code",
   "execution_count": 18,
   "id": "1ccd87e3",
   "metadata": {
    "slideshow": {
     "slide_type": "fragment"
    }
   },
   "outputs": [],
   "source": [
    "# Using a list comprehension\n",
    "new_list = [x for x in range(10)]"
   ]
  },
  {
   "cell_type": "markdown",
   "id": "1e16e828",
   "metadata": {
    "slideshow": {
     "slide_type": "subslide"
    }
   },
   "source": [
    "## Quick quiz\n",
    "\n",
    "Question 1: What is the value of `my_list` after the following code is run?\n"
   ]
  },
  {
   "cell_type": "code",
   "execution_count": 19,
   "id": "6218ed66",
   "metadata": {},
   "outputs": [
    {
     "data": {
      "text/plain": [
       "1.4"
      ]
     },
     "execution_count": 19,
     "metadata": {},
     "output_type": "execute_result"
    }
   ],
   "source": [
    "my_list = [1, \"data\", 1.4, [13, 15, 1]]\n",
    "my_list[-2] "
   ]
  },
  {
   "cell_type": "markdown",
   "id": "04855d0f",
   "metadata": {
    "slideshow": {
     "slide_type": "fragment"
    }
   },
   "source": [
    "Question 2: How do I extract the value 15 from the list `my_list`?"
   ]
  },
  {
   "cell_type": "markdown",
   "id": "6e1102b4",
   "metadata": {
    "slideshow": {
     "slide_type": "fragment"
    }
   },
   "source": [
    "Question 2b: How do I extract the value 15 from the list `my_list` using negative indexing?"
   ]
  },
  {
   "cell_type": "markdown",
   "id": "836aaeb5",
   "metadata": {
    "slideshow": {
     "slide_type": "subslide"
    }
   },
   "source": [
    "Question 3: What is the output of the following slice operation?"
   ]
  },
  {
   "cell_type": "code",
   "execution_count": 20,
   "id": "94abd77c",
   "metadata": {},
   "outputs": [],
   "source": [
    "short_list = my_list[1:3]\n"
   ]
  },
  {
   "cell_type": "markdown",
   "id": "1bef696c",
   "metadata": {
    "slideshow": {
     "slide_type": "subslide"
    }
   },
   "source": [
    "Question 4: What is the output of the following operation?\n"
   ]
  },
  {
   "cell_type": "code",
   "execution_count": 21,
   "id": "adab3e0b",
   "metadata": {},
   "outputs": [],
   "source": [
    "magic = my_list[2:3] + short_list"
   ]
  },
  {
   "cell_type": "markdown",
   "id": "96920f8c",
   "metadata": {
    "slideshow": {
     "slide_type": "subslide"
    }
   },
   "source": [
    "Question 5: What is the output of the following operation?\n"
   ]
  },
  {
   "cell_type": "code",
   "execution_count": 22,
   "id": "d0338e55",
   "metadata": {},
   "outputs": [
    {
     "data": {
      "text/plain": [
       "[0, 'data', 1.4]"
      ]
     },
     "execution_count": 22,
     "metadata": {},
     "output_type": "execute_result"
    }
   ],
   "source": [
    "magic[0] = 0\n",
    "magic"
   ]
  },
  {
   "cell_type": "markdown",
   "id": "2ea78ea3",
   "metadata": {
    "slideshow": {
     "slide_type": "slide"
    }
   },
   "source": [
    "## Tuples\n",
    "\n",
    "Tuples are similar to lists, but they are immutable, meaning they cannot be changed after they are created.\n",
    "\n",
    "Tuples can be created in multiple ways:\n",
    "\n",
    " - Declaring an empty tuple: `my_tuple = ()` or `my_tuple = tuple()`\n",
    " - Initializing a tuple with some values: `my_tuple = (1, 2, 3)`\n",
    " - Using an existing tuple: `my_tuple = tuple(another_tuple)`\n",
    " - Declaring a tuple with a range: `my_tuple = tuple(range(5))`\n",
    " - Using tuple comprehension: `my_tuple = (x for x in range(5))`\n"
   ]
  },
  {
   "cell_type": "markdown",
   "id": "7e441360",
   "metadata": {
    "slideshow": {
     "slide_type": "subslide"
    }
   },
   "source": [
    "### Quick quiz\n",
    "\n",
    "Question 1: What is the value of `my_tuple` after the following code is run?\n"
   ]
  },
  {
   "cell_type": "code",
   "execution_count": 23,
   "id": "c153f326",
   "metadata": {},
   "outputs": [
    {
     "data": {
      "text/plain": [
       "1.4"
      ]
     },
     "execution_count": 23,
     "metadata": {},
     "output_type": "execute_result"
    }
   ],
   "source": [
    "my_tuple = (1, \"data\", 1.4, [13, 15, 1])\n",
    "my_tuple[-2]"
   ]
  },
  {
   "cell_type": "markdown",
   "id": "bdcdadae",
   "metadata": {
    "slideshow": {
     "slide_type": "subslide"
    }
   },
   "source": [
    "Question 2: What is the output of the following operation?\n"
   ]
  },
  {
   "cell_type": "code",
   "execution_count": 24,
   "id": "26f5ffe2",
   "metadata": {},
   "outputs": [
    {
     "data": {
      "text/plain": [
       "1.4"
      ]
     },
     "execution_count": 24,
     "metadata": {},
     "output_type": "execute_result"
    }
   ],
   "source": [
    "(number, text, float_number, inner_list) = my_tuple\n",
    "float_number\n"
   ]
  },
  {
   "cell_type": "markdown",
   "id": "f1a7d319",
   "metadata": {
    "slideshow": {
     "slide_type": "subslide"
    }
   },
   "source": [
    "Question 3: What is the output of the following operation?"
   ]
  },
  {
   "cell_type": "code",
   "execution_count": 25,
   "id": "17058a15",
   "metadata": {},
   "outputs": [],
   "source": [
    "# my_tuple[1] = \"dsc200\"\n",
    "# my_tuple"
   ]
  },
  {
   "cell_type": "markdown",
   "id": "f7a507d4",
   "metadata": {
    "slideshow": {
     "slide_type": "slide"
    }
   },
   "source": [
    "## Mutability"
   ]
  },
  {
   "cell_type": "markdown",
   "id": "4ee49734",
   "metadata": {
    "slideshow": {
     "slide_type": "fragment"
    }
   },
   "source": [
    "Every variable in Python is an object. An object consists of two things:\n",
    "\n",
    "- reference: indicates where (i.e. memory address) you can find the actual value\n",
    "- value: the actual value you assign to an object"
   ]
  },
  {
   "cell_type": "markdown",
   "id": "67e6d6cb",
   "metadata": {
    "slideshow": {
     "slide_type": "subslide"
    }
   },
   "source": [
    "`id()` in Python shows the reference information of an object:"
   ]
  },
  {
   "cell_type": "code",
   "execution_count": 26,
   "id": "57721da5",
   "metadata": {},
   "outputs": [
    {
     "name": "stdout",
     "output_type": "stream",
     "text": [
      "4311542192\n"
     ]
    }
   ],
   "source": [
    "x = 5\n",
    "print(id(x))\n"
   ]
  },
  {
   "cell_type": "markdown",
   "id": "a28462be",
   "metadata": {
    "slideshow": {
     "slide_type": "subslide"
    }
   },
   "source": [
    "Immutable objects cannot change the value once defined. This means that if you change the value of an immutable object, you are actually creating a new object and assigning it to the same reference box.\n",
    "\n",
    "Mutable objects can change the value once defined. This means that if you change the value of a mutable object, you are actually changing the value of the same object."
   ]
  },
  {
   "cell_type": "markdown",
   "id": "08b5be1d",
   "metadata": {
    "slideshow": {
     "slide_type": "subslide"
    }
   },
   "source": [
    "Let's see an example:"
   ]
  },
  {
   "cell_type": "code",
   "execution_count": 27,
   "id": "75131614",
   "metadata": {},
   "outputs": [
    {
     "name": "stdout",
     "output_type": "stream",
     "text": [
      "4311542192\n",
      "4311542224\n"
     ]
    }
   ],
   "source": [
    "x = 5\n",
    "print(id(x))\n",
    "x = 6\n",
    "print(id(x))"
   ]
  },
  {
   "cell_type": "markdown",
   "id": "e02555ac",
   "metadata": {
    "slideshow": {
     "slide_type": "fragment"
    }
   },
   "source": [
    "Question: So is an integer mutable or immutable?"
   ]
  },
  {
   "cell_type": "markdown",
   "id": "4a7f86ef",
   "metadata": {
    "slideshow": {
     "slide_type": "subslide"
    }
   },
   "source": [
    "How about a list?"
   ]
  },
  {
   "cell_type": "code",
   "execution_count": 28,
   "id": "22f43a8c",
   "metadata": {},
   "outputs": [
    {
     "name": "stdout",
     "output_type": "stream",
     "text": [
      "4375439104\n",
      "4375439104\n"
     ]
    }
   ],
   "source": [
    "x = [1, 2, 3]\n",
    "print(id(x))\n",
    "x.append(4)\n",
    "print(id(x))"
   ]
  },
  {
   "cell_type": "markdown",
   "id": "93a577e6",
   "metadata": {
    "slideshow": {
     "slide_type": "fragment"
    }
   },
   "source": [
    "In Python, integers, floats, strings, and tuples are immutable, while lists, sets, and dictionaries are mutable."
   ]
  }
 ],
 "metadata": {
  "celltoolbar": "Slideshow",
  "kernelspec": {
   "display_name": "Python 3 (ipykernel)",
   "language": "python",
   "name": "python3"
  },
  "language_info": {
   "codemirror_mode": {
    "name": "ipython",
    "version": 3
   },
   "file_extension": ".py",
   "mimetype": "text/x-python",
   "name": "python",
   "nbconvert_exporter": "python",
   "pygments_lexer": "ipython3",
   "version": "3.9.20"
  }
 },
 "nbformat": 4,
 "nbformat_minor": 5
}
