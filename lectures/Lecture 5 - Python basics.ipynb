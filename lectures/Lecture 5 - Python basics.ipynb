{
 "cells": [
  {
   "cell_type": "markdown",
   "id": "f15fef7e",
   "metadata": {
    "slideshow": {
     "slide_type": "slide"
    }
   },
   "source": [
    "# DSC200 - Lecture 5\n",
    "\n",
    "## Python (not so) Basics"
   ]
  },
  {
   "cell_type": "markdown",
   "id": "3c2d60e0",
   "metadata": {
    "slideshow": {
     "slide_type": "slide"
    }
   },
   "source": [
    "## Recap\n",
    "\n",
    "In the last lecture, we covered the following topics:\n",
    "\n",
    " - Functions\n",
    "    - Lambda functions\n",
    "\n",
    " - Map, Filter, and Reduce\n",
    " - Iterators and Generators\n",
    " - Recursion"
   ]
  },
  {
   "cell_type": "markdown",
   "id": "434661f7",
   "metadata": {
    "slideshow": {
     "slide_type": "subslide"
    }
   },
   "source": [
    "In this lecture, we will cover slightly more advanced topics:\n",
    "\n",
    " - Error Handling\n",
    " - File I/O\n",
    " - Modules and Packages\n",
    " - Multiprocessing\n",
    " - Decorators\n"
   ]
  },
  {
   "cell_type": "markdown",
   "id": "c046d226",
   "metadata": {
    "slideshow": {
     "slide_type": "slide"
    }
   },
   "source": [
    "## Exception handling"
   ]
  },
  {
   "cell_type": "markdown",
   "id": "e07bffdd",
   "metadata": {
    "slideshow": {
     "slide_type": "-"
    }
   },
   "source": [
    "You will have noticed that when something goes wrong in a Python program you see an error message.\n",
    "\n",
    "This is called an exception, and you can handle them explicitly to prevent your program from aborting and printing an unhelpful traceback."
   ]
  },
  {
   "cell_type": "markdown",
   "id": "0fb164d5",
   "metadata": {
    "slideshow": {
     "slide_type": "fragment"
    }
   },
   "source": [
    "This is especially important when scripts are not intended to run interactively"
   ]
  },
  {
   "cell_type": "markdown",
   "id": "914747cb",
   "metadata": {
    "slideshow": {
     "slide_type": "subslide"
    }
   },
   "source": [
    "For example, take the following code that asks the user to enter an integer, then prints *\"Hello\"* that number of times:"
   ]
  },
  {
   "cell_type": "code",
   "execution_count": null,
   "id": "326cdd99",
   "metadata": {},
   "outputs": [],
   "source": [
    "n = int(input(\"Enter an integer: \"))\n",
    "print(\"Hello \" * n)"
   ]
  },
  {
   "cell_type": "markdown",
   "id": "ca13c670",
   "metadata": {
    "slideshow": {
     "slide_type": "fragment"
    }
   },
   "source": [
    "This failed when we provided input that could not be converted to an integer."
   ]
  },
  {
   "cell_type": "markdown",
   "id": "bca61130",
   "metadata": {
    "slideshow": {
     "slide_type": "subslide"
    }
   },
   "source": [
    "We can re-write this so that we catch the exception before it gets to the user, and print a helpful message instead:"
   ]
  },
  {
   "cell_type": "code",
   "execution_count": null,
   "id": "bf610391",
   "metadata": {},
   "outputs": [],
   "source": [
    "try:\n",
    "    n = int(input(\"Enter an integer: \"))\n",
    "    print(\"Hello \" * n)\n",
    "except ValueError:\n",
    "    print(\"That wasn't an integer!\")\n",
    "\n",
    "print('done')"
   ]
  },
  {
   "cell_type": "markdown",
   "id": "b3afa517",
   "metadata": {
    "slideshow": {
     "slide_type": "fragment"
    }
   },
   "source": [
    "You can handle errors in anyway that might be appropriate for your program."
   ]
  },
  {
   "cell_type": "markdown",
   "id": "5eaf94e7",
   "metadata": {
    "slideshow": {
     "slide_type": "subslide"
    }
   },
   "source": [
    "We could take this one step further by continually asking the user for input until we get an integer:"
   ]
  },
  {
   "cell_type": "code",
   "execution_count": null,
   "id": "0b29f338",
   "metadata": {},
   "outputs": [],
   "source": [
    "while True:\n",
    "    try:\n",
    "        n = int(input(\"Enter an integer: \"))\n",
    "        print(\"Hello \" * n)\n",
    "        break\n",
    "    except ValueError:\n",
    "        print(\"That wasn't an integer! Try again...\")\n",
    "    except KeyboardInterrupt:\n",
    "        print('bye')\n",
    "        break"
   ]
  },
  {
   "cell_type": "markdown",
   "id": "90497eb3",
   "metadata": {
    "slideshow": {
     "slide_type": "slide"
    }
   },
   "source": [
    "## File I/O\n",
    "\n",
    "Python provides basic functions and methods necessary to manipulate files by default. You can do most of the file manipulation using a file object.\n"
   ]
  },
  {
   "cell_type": "markdown",
   "id": "52f92eb8",
   "metadata": {
    "slideshow": {
     "slide_type": "subslide"
    }
   },
   "source": [
    "\n",
    "### Opening a file\n",
    "\n",
    "Python has a built-in function `open()` to open a file. This function returns a file object, also called a handle, as it is used to read or modify the file.\n"
   ]
  },
  {
   "cell_type": "code",
   "execution_count": null,
   "id": "03ee99c1",
   "metadata": {},
   "outputs": [],
   "source": [
    "f = open(\"test.txt\", mode='w')    # open file in current directory to write into"
   ]
  },
  {
   "cell_type": "markdown",
   "id": "274b9c38",
   "metadata": {
    "slideshow": {
     "slide_type": "subslide"
    }
   },
   "source": [
    "### Writing to a file"
   ]
  },
  {
   "cell_type": "code",
   "execution_count": null,
   "id": "2fec50ed",
   "metadata": {},
   "outputs": [],
   "source": [
    "f.write(\"Hello World\")"
   ]
  },
  {
   "cell_type": "markdown",
   "id": "139935ee",
   "metadata": {
    "slideshow": {
     "slide_type": "subslide"
    }
   },
   "source": [
    "\n",
    "\n",
    "### Closing a file\n",
    "\n",
    "When you're done with a file, use the `close()` method to close it.\n"
   ]
  },
  {
   "cell_type": "code",
   "execution_count": 6,
   "id": "a7c94a43",
   "metadata": {},
   "outputs": [],
   "source": [
    "f.close()"
   ]
  },
  {
   "cell_type": "markdown",
   "id": "1e5318f8",
   "metadata": {
    "slideshow": {
     "slide_type": "subslide"
    }
   },
   "source": [
    "### Reading from a file\n",
    "\n"
   ]
  },
  {
   "cell_type": "code",
   "execution_count": null,
   "id": "510a5696",
   "metadata": {},
   "outputs": [],
   "source": [
    "f = open(\"test.txt\", \"r\")\n",
    "print(f.read())"
   ]
  },
  {
   "cell_type": "markdown",
   "id": "b050094f",
   "metadata": {
    "slideshow": {
     "slide_type": "subslide"
    }
   },
   "source": [
    "### Reading line by line\n"
   ]
  },
  {
   "cell_type": "code",
   "execution_count": null,
   "id": "94e4f588",
   "metadata": {},
   "outputs": [],
   "source": [
    "f = open(\"test.txt\", \"r\")\n",
    "print(f.readline())\n"
   ]
  },
  {
   "cell_type": "markdown",
   "id": "03749dc8",
   "metadata": {
    "slideshow": {
     "slide_type": "subslide"
    }
   },
   "source": [
    "Note, that you can also loop through the file object to read line by line."
   ]
  },
  {
   "cell_type": "code",
   "execution_count": null,
   "id": "dd5b1019",
   "metadata": {},
   "outputs": [],
   "source": [
    "f = open(\"test.txt\", \"r\")\n",
    "for line in f:\n",
    "    print(line)"
   ]
  },
  {
   "cell_type": "markdown",
   "id": "80c5477c",
   "metadata": {
    "slideshow": {
     "slide_type": "notes"
    }
   },
   "source": [
    "For csv and other structured data, you can use `pandas` to read the file into a DataFrame and it will automatically parse the data into columns (and is much faster than doing it manually). We will cover `pandas` in a later lecture."
   ]
  },
  {
   "cell_type": "markdown",
   "id": "b1d1fa59",
   "metadata": {
    "slideshow": {
     "slide_type": "slide"
    }
   },
   "source": [
    "\n",
    "## Context Managers\n",
    "\n",
    "Python's `with` statement supports the concept of a runtime context defined by a context manager. This is implemented using two special methods, `__enter__()` and `__exit__()`, which are called when entering and exiting the context.\n"
   ]
  },
  {
   "cell_type": "markdown",
   "id": "e160b8b5",
   "metadata": {
    "slideshow": {
     "slide_type": "subslide"
    }
   },
   "source": [
    "\n",
    "The `open()` function returns a context manager, so you can use it with the `with` statement:\n"
   ]
  },
  {
   "cell_type": "code",
   "execution_count": null,
   "id": "443e533b",
   "metadata": {},
   "outputs": [],
   "source": [
    "with open(\"test.txt\", \"r\") as f:\n",
    "    print(f.read())\n"
   ]
  },
  {
   "cell_type": "markdown",
   "id": "01bc5a86",
   "metadata": {
    "slideshow": {
     "slide_type": "subslide"
    }
   },
   "source": [
    "\n",
    "This also takes care of closing the file for you, even if an exception is raised, and is equivalent to:\n"
   ]
  },
  {
   "cell_type": "code",
   "execution_count": null,
   "id": "62816766",
   "metadata": {},
   "outputs": [],
   "source": [
    "f = open(\"test.txt\", \"r\")\n",
    "try:\n",
    "    print(f.read())\n",
    "finally:\n",
    "    f.close()"
   ]
  },
  {
   "cell_type": "markdown",
   "id": "9f42043e",
   "metadata": {
    "slideshow": {
     "slide_type": "fragment"
    }
   },
   "source": [
    "Some other examples of context managers are `threading.Lock`, `seaborn.axes_style`, and `multiprocessing.Pool`."
   ]
  },
  {
   "cell_type": "markdown",
   "id": "bfa590ed",
   "metadata": {
    "slideshow": {
     "slide_type": "slide"
    }
   },
   "source": [
    "## Libraries and Modules\n",
    "\n",
    "Python has a very rich standard library, which includes modules for working with files, regular expressions, dates and times, compression, and much more.\n"
   ]
  },
  {
   "cell_type": "markdown",
   "id": "5478ef3a",
   "metadata": {
    "slideshow": {
     "slide_type": "fragment"
    }
   },
   "source": [
    "\n",
    "You can also install third-party libraries from the Python Package Index (PyPI) using `pip`, or from conda-forge using `conda`.\n",
    "\n"
   ]
  },
  {
   "cell_type": "markdown",
   "id": "5b635ca8",
   "metadata": {
    "slideshow": {
     "slide_type": "fragment"
    }
   },
   "source": [
    "\n",
    "To use a module, you need to import it:\n",
    "\n",
    "```python\n",
    "import os\n",
    "```\n",
    "\n"
   ]
  },
  {
   "cell_type": "markdown",
   "id": "ffc5dcbe",
   "metadata": {
    "slideshow": {
     "slide_type": "subslide"
    }
   },
   "source": [
    "You can also import specific functions or classes from a module:\n",
    "\n",
    "```python\n",
    "from os import path\n",
    "```\n",
    "\n"
   ]
  },
  {
   "cell_type": "markdown",
   "id": "97354750",
   "metadata": {
    "slideshow": {
     "slide_type": "fragment"
    }
   },
   "source": [
    "You can also import a module with an alias:\n",
    "\n",
    "```python\n",
    "import numpy as np\n",
    "```\n",
    "\n"
   ]
  },
  {
   "cell_type": "markdown",
   "id": "e792bb35",
   "metadata": {
    "slideshow": {
     "slide_type": "fragment"
    }
   },
   "source": [
    "You can easily create your own modules by saving a Python file with the `.py` extension, and then importing it as above. \n"
   ]
  },
  {
   "cell_type": "markdown",
   "id": "35b1d22f",
   "metadata": {
    "slideshow": {
     "slide_type": "slide"
    }
   },
   "source": [
    "## Multiprocessing\n",
    "\n",
    "Python has a built-in library called `multiprocessing` that allows you to use multiple processes to parallelize your code."
   ]
  },
  {
   "cell_type": "markdown",
   "id": "2ad57f68",
   "metadata": {
    "slideshow": {
     "slide_type": "fragment"
    }
   },
   "source": [
    "\n",
    "The `Pool` class is used to create a pool of worker processes. By default, the number of worker processes will be set to the number of cores on your machine.\n"
   ]
  },
  {
   "cell_type": "markdown",
   "id": "83d182fb",
   "metadata": {
    "slideshow": {
     "slide_type": "fragment"
    }
   },
   "source": [
    "\n",
    "This Pool object has methods that allow you to map a function to a list of inputs, and return the results.\n"
   ]
  },
  {
   "cell_type": "markdown",
   "id": "a2500d76",
   "metadata": {
    "slideshow": {
     "slide_type": "subslide"
    }
   },
   "source": [
    "\n",
    "### Example\n"
   ]
  },
  {
   "cell_type": "code",
   "execution_count": null,
   "id": "468f0100",
   "metadata": {},
   "outputs": [],
   "source": [
    "import multiprocessing\n",
    "from parallel_lib import worker\n",
    "\n",
    "with multiprocessing.Pool() as p:\n",
    "    p.map(worker, range(5))\n"
   ]
  },
  {
   "cell_type": "markdown",
   "id": "efcd41ca",
   "metadata": {
    "slideshow": {
     "slide_type": "fragment"
    }
   },
   "source": [
    "Obviously, this is a simple example and the overhead of creating the processes may outweigh the benefits of parallelization. You should only use multiprocessing when you have a computationally expensive task that can be parallelized."
   ]
  },
  {
   "cell_type": "markdown",
   "id": "18b0ef5b",
   "metadata": {
    "slideshow": {
     "slide_type": "notes"
    }
   },
   "source": [
    "Note, we needed to import the worker function from the parallel_lib module rather than defining it in the notebook because the worker function needs to be pickled and sent to the worker processes. This is a limitation of the multiprocessing module in Jupiter notebooks (but not in regular Python scripts)."
   ]
  },
  {
   "cell_type": "markdown",
   "id": "ca688fc6",
   "metadata": {
    "slideshow": {
     "slide_type": "slide"
    }
   },
   "source": [
    "## Decorators\n",
    "\n",
    "Decorators are a way to modify or extend the behavior of functions or methods. A decorator is a function that takes another function and extends the behavior of the latter function without explicitly modifying it. \n",
    "\n",
    "Decorators are very powerful and useful tool in Python since it allows programmers to modify the behavior of function or class.\n"
   ]
  },
  {
   "cell_type": "markdown",
   "id": "f4907a07",
   "metadata": {
    "slideshow": {
     "slide_type": "subslide"
    }
   },
   "source": [
    "### Syntax\n",
    "\n",
    "```python\n",
    "@decorator\n",
    "def function():\n",
    "    pass\n",
    "```\n",
    "\n",
    "is equivalent to\n",
    "\n",
    "```python\n",
    "def function():\n",
    "    pass\n",
    "\n",
    "function = decorator(function)\n",
    "```\n"
   ]
  },
  {
   "cell_type": "markdown",
   "id": "4460b70a",
   "metadata": {
    "slideshow": {
     "slide_type": "subslide"
    }
   },
   "source": [
    "### Example"
   ]
  },
  {
   "cell_type": "code",
   "execution_count": null,
   "id": "f96e4107",
   "metadata": {},
   "outputs": [],
   "source": [
    "def my_decorator(func):\n",
    "    def wrapper():\n",
    "        print(\"Something is happening before the function is called.\")\n",
    "        func()\n",
    "        print(\"Something is happening after the function is called.\")\n",
    "    return wrapper\n",
    "\n",
    "def say_hello():\n",
    "    print(\"Hello!\")\n",
    "\n",
    "say_hello = my_decorator(say_hello)\n",
    "say_hello()\n"
   ]
  },
  {
   "cell_type": "markdown",
   "id": "9eeb9470",
   "metadata": {
    "slideshow": {
     "slide_type": "subslide"
    }
   },
   "source": [
    "### Example using a decorator\n"
   ]
  },
  {
   "cell_type": "code",
   "execution_count": null,
   "id": "1b6a6425",
   "metadata": {},
   "outputs": [],
   "source": [
    "def my_decorator(func):\n",
    "    def wrapper():\n",
    "        print(\"Something is happening before the function is called.\")\n",
    "        func()\n",
    "        print(\"Something is happening after the function is called.\")\n",
    "    return wrapper\n",
    "\n",
    "@my_decorator\n",
    "def say_hello():\n",
    "    print(\"Hello!\")\n",
    "\n",
    "say_hello()"
   ]
  },
  {
   "cell_type": "markdown",
   "id": "18f7df5e",
   "metadata": {
    "slideshow": {
     "slide_type": "slide"
    }
   },
   "source": [
    "\n",
    "## Summary\n",
    "\n",
    "Today, we covered the following topics:\n",
    "\n",
    " - Error Handling\n",
    " - File I/O\n",
    " - Modules and Packages\n",
    " - Multiprocessing\n",
    " - Decorators"
   ]
  }
 ],
 "metadata": {
  "celltoolbar": "Slideshow",
  "kernelspec": {
   "display_name": "Python 3 (ipykernel)",
   "language": "python",
   "name": "python3"
  },
  "language_info": {
   "codemirror_mode": {
    "name": "ipython",
    "version": 3
   },
   "file_extension": ".py",
   "mimetype": "text/x-python",
   "name": "python",
   "nbconvert_exporter": "python",
   "pygments_lexer": "ipython3",
   "version": "3.9.20"
  }
 },
 "nbformat": 4,
 "nbformat_minor": 5
}
