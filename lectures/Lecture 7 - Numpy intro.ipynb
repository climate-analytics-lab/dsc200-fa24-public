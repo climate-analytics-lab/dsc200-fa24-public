{
 "cells": [
  {
   "cell_type": "markdown",
   "metadata": {
    "id": "h6MwZOf6dFFq",
    "slideshow": {
     "slide_type": "slide"
    }
   },
   "source": [
    "# DSC200 Lecture 7 \n",
    "\n",
    "## An introduction to NumPy"
   ]
  },
  {
   "cell_type": "markdown",
   "metadata": {
    "id": "ex8qgZp0dFFs",
    "slideshow": {
     "slide_type": "subslide"
    }
   },
   "source": [
    "## NumPy\n",
    "\n",
    "NumPy provides an efficient representation of multidimensional datasets like vectors and matricies, and tools for linear algebra and general matrix manipulations - essential building blocks of virtually all technical computing"
   ]
  },
  {
   "cell_type": "markdown",
   "metadata": {
    "id": "KiydI6BWdFFt",
    "slideshow": {
     "slide_type": "fragment"
    }
   },
   "source": [
    "Typically NumPy is imported as `np`:"
   ]
  },
  {
   "cell_type": "code",
   "execution_count": null,
   "metadata": {
    "id": "LsYTz5YsdFFt",
    "slideshow": {
     "slide_type": "fragment"
    }
   },
   "outputs": [],
   "source": [
    "import numpy as np"
   ]
  },
  {
   "cell_type": "markdown",
   "metadata": {
    "id": "YJVd4uChdFFu",
    "slideshow": {
     "slide_type": "fragment"
    }
   },
   "source": [
    "NumPy, at its core, provides a powerful array object.  Let's start by exploring how the NumPy array differs from a Python list.  "
   ]
  },
  {
   "cell_type": "markdown",
   "metadata": {
    "id": "pITtVPEtdFFu",
    "slideshow": {
     "slide_type": "subslide"
    }
   },
   "source": [
    "We start by creating a simple Python list and a NumPy array with identical contents:"
   ]
  },
  {
   "cell_type": "code",
   "execution_count": null,
   "metadata": {
    "id": "q7jiVq1bdFFu",
    "outputId": "8c74d0d1-aeb8-4714-97f3-6634b224d269"
   },
   "outputs": [],
   "source": [
    "lst = [10, 20, 30, 40]\n",
    "arr = np.array([10, 20, 30, 40])\n",
    "print(lst)\n",
    "print(arr)"
   ]
  },
  {
   "cell_type": "markdown",
   "metadata": {
    "id": "aLjndtyjdFFv",
    "slideshow": {
     "slide_type": "subslide"
    }
   },
   "source": [
    "### Element indexing\n",
    "\n",
    "Elements of a one-dimensional array are accessed with the same syntax as a list:"
   ]
  },
  {
   "cell_type": "code",
   "execution_count": null,
   "metadata": {
    "id": "5SEHWlN4dFFv",
    "jupyter": {
     "outputs_hidden": true
    },
    "outputId": "9213f137-dfb4-43d3-cc22-01e4419b18f0"
   },
   "outputs": [],
   "source": [
    "print(lst[0], arr[0])"
   ]
  },
  {
   "cell_type": "code",
   "execution_count": null,
   "metadata": {
    "id": "Ma7mtQOPdFFv",
    "jupyter": {
     "outputs_hidden": true
    },
    "outputId": "1f9f7c98-e001-4b73-a570-71adbfefbdfb"
   },
   "outputs": [],
   "source": [
    "print(lst[-1], arr[-1])"
   ]
  },
  {
   "cell_type": "code",
   "execution_count": null,
   "metadata": {
    "id": "H3hBpLOXdFFw",
    "jupyter": {
     "outputs_hidden": true
    },
    "outputId": "aca8fa91-1730-450a-8b65-ff848b3b0458"
   },
   "outputs": [],
   "source": [
    "print(lst[2:], arr[2:])"
   ]
  },
  {
   "cell_type": "markdown",
   "metadata": {
    "id": "ZnESMPcUdFFw",
    "slideshow": {
     "slide_type": "subslide"
    }
   },
   "source": [
    "### Differences between arrays and lists"
   ]
  },
  {
   "cell_type": "markdown",
   "metadata": {
    "id": "uiXC-qwMdFFw"
   },
   "source": [
    "The first difference to note between lists and arrays is that arrays are *homogeneous*; i.e. all elements of an array must be of the same type.  In contrast, lists can contain elements of arbitrary type. For example, we can change the last element in our list above to be a string:"
   ]
  },
  {
   "cell_type": "code",
   "execution_count": null,
   "metadata": {
    "id": "RU0mYEqrdFFw",
    "jupyter": {
     "outputs_hidden": true
    },
    "outputId": "b139a6db-f6cf-4e90-f6f8-0d7990f5625f"
   },
   "outputs": [],
   "source": [
    "lst[-1] = 'a string inside a list'\n",
    "lst"
   ]
  },
  {
   "cell_type": "markdown",
   "metadata": {
    "id": "lpFfpD-ydFFw",
    "slideshow": {
     "slide_type": "subslide"
    }
   },
   "source": [
    "But the same can not be done with an array, as we get an error message:"
   ]
  },
  {
   "cell_type": "code",
   "execution_count": null,
   "metadata": {
    "id": "fywSyvHldFFw",
    "jupyter": {
     "outputs_hidden": true
    },
    "outputId": "a7608681-a171-495d-972b-197cde5e19fc"
   },
   "outputs": [],
   "source": [
    "arr[-1] = 'a string inside an array'"
   ]
  },
  {
   "cell_type": "markdown",
   "metadata": {
    "id": "_S9NmgMVdFFx",
    "slideshow": {
     "slide_type": "notes"
    }
   },
   "source": [
    "Caveat, it can be done, but really *don't do it*; lists are generally better at non-homogeneous collections."
   ]
  },
  {
   "cell_type": "markdown",
   "metadata": {
    "id": "8cwNeg-ZdFFx",
    "slideshow": {
     "slide_type": "slide"
    }
   },
   "source": [
    "## Array Properties and Methods"
   ]
  },
  {
   "cell_type": "markdown",
   "metadata": {
    "id": "ng56vVkUdFFx",
    "slideshow": {
     "slide_type": "subslide"
    }
   },
   "source": [
    "The following provide basic information about the size, shape and data in the array:"
   ]
  },
  {
   "cell_type": "code",
   "execution_count": null,
   "metadata": {
    "id": "i0Dak9hhdFFx",
    "jupyter": {
     "outputs_hidden": true
    },
    "outputId": "4e2703bc-5933-4066-f964-7d35dbcac023"
   },
   "outputs": [],
   "source": [
    "print('Data type                :', arr.dtype)\n",
    "print('Total number of elements :', arr.size)\n",
    "print('Number of dimensions     :', arr.ndim)\n",
    "print('Shape (dimensionality)   :', arr.shape)\n",
    "print('Memory used (in bytes)   :', arr.nbytes)"
   ]
  },
  {
   "cell_type": "markdown",
   "metadata": {
    "id": "6z7JdWW-dFFx",
    "slideshow": {
     "slide_type": "subslide"
    }
   },
   "source": [
    "Arrays also have many useful statistical/mathematical methods:"
   ]
  },
  {
   "cell_type": "code",
   "execution_count": null,
   "metadata": {
    "id": "smWpqdZCdFFx",
    "jupyter": {
     "outputs_hidden": true
    },
    "outputId": "2ff023f3-216d-4ce6-9db7-6599fa9582b8"
   },
   "outputs": [],
   "source": [
    "print('Minimum and maximum             :', arr.min(), arr.max())\n",
    "print('Sum and product of all elements :', arr.sum(), arr.prod())\n",
    "print('Mean and standard deviation     :', arr.mean(), arr.std())"
   ]
  },
  {
   "cell_type": "markdown",
   "metadata": {
    "id": "awEqWVkJdFFx",
    "slideshow": {
     "slide_type": "subslide"
    }
   },
   "source": [
    "### Data types\n",
    "\n",
    "The information about the type of an array is contained in its `dtype` attribute."
   ]
  },
  {
   "cell_type": "code",
   "execution_count": null,
   "metadata": {
    "id": "9LgaobhjdFFx",
    "jupyter": {
     "outputs_hidden": true
    },
    "outputId": "5abc87c0-0f64-4bde-ef68-cff31c0acbba"
   },
   "outputs": [],
   "source": [
    "arr.dtype"
   ]
  },
  {
   "cell_type": "markdown",
   "metadata": {
    "id": "sAglxJOtdFFx",
    "slideshow": {
     "slide_type": "fragment"
    }
   },
   "source": [
    "Once an array has been created, its `dtype` is fixed (in this case to an 8 byte/64 bit signed integer) and it can only store elements of the same type."
   ]
  },
  {
   "cell_type": "markdown",
   "metadata": {
    "id": "NGhktSwwdFFx",
    "slideshow": {
     "slide_type": "subslide"
    }
   },
   "source": [
    "For this example where the `dtype` is integer, if we try storing a floating point number in the array it will be automatically converted into an integer:"
   ]
  },
  {
   "cell_type": "code",
   "execution_count": null,
   "metadata": {
    "id": "W08oRob0dFFx",
    "jupyter": {
     "outputs_hidden": true
    },
    "outputId": "49a666f5-45bc-44d4-ccab-4f3fe3be39c1"
   },
   "outputs": [],
   "source": [
    "arr[-1] = 1.234\n",
    "arr"
   ]
  },
  {
   "cell_type": "markdown",
   "metadata": {
    "id": "dU9VZs0YdFFy",
    "slideshow": {
     "slide_type": "subslide"
    }
   },
   "source": [
    "NumPy comes with most of the common data types (and some uncommon ones too).\n",
    "\n",
    "The most used (and portable) dtypes are:\n",
    "\n",
    "* bool\n",
    "* uint8\n",
    "* int (machine dependent)\n",
    "* int8\n",
    "* int32\n",
    "* int64\n",
    "* float (machine dependent)\n",
    "* float32\n",
    "* float64"
   ]
  },
  {
   "cell_type": "markdown",
   "metadata": {
    "id": "mlXZi9S6dFFy",
    "slideshow": {
     "slide_type": "notes"
    }
   },
   "source": [
    "Full details can be found at http://docs.scipy.org/doc/numpy/user/basics.types.html."
   ]
  },
  {
   "cell_type": "markdown",
   "metadata": {
    "id": "aNNxhc3ydFFy",
    "slideshow": {
     "slide_type": "subslide"
    }
   },
   "source": [
    "What are the limits of the common NumPy integer types?"
   ]
  },
  {
   "cell_type": "code",
   "execution_count": null,
   "metadata": {
    "id": "s7J1TcLMdFFy",
    "jupyter": {
     "outputs_hidden": true
    },
    "outputId": "416e3250-c3ed-4604-e028-558c8101c512"
   },
   "outputs": [],
   "source": [
    "np.array(256, dtype=np.uint8)"
   ]
  },
  {
   "cell_type": "code",
   "execution_count": null,
   "metadata": {
    "id": "KV21uh5odFFy",
    "jupyter": {
     "outputs_hidden": true
    },
    "outputId": "45ea4728-49d7-4173-da96-0977225996a6",
    "slideshow": {
     "slide_type": "fragment"
    }
   },
   "outputs": [],
   "source": [
    "float_info = ('{finfo.dtype}: max={finfo.max:<18}, '\n",
    "              'approx decimal precision={finfo.precision};')\n",
    "print(float_info.format(finfo=np.finfo(np.float32)))\n",
    "print(float_info.format(finfo=np.finfo(np.float64)))"
   ]
  },
  {
   "cell_type": "markdown",
   "metadata": {
    "id": "_5WNYKY5dFFy",
    "slideshow": {
     "slide_type": "subslide"
    }
   },
   "source": [
    "## Pop quiz"
   ]
  },
  {
   "cell_type": "markdown",
   "metadata": {
    "id": "uAT4ITZTdFFy"
   },
   "source": [
    "What is the output of the below code:"
   ]
  },
  {
   "cell_type": "code",
   "execution_count": null,
   "metadata": {
    "id": "YalQmfV5dFFy",
    "outputId": "3a536e98-0887-46db-f53d-bd9e02cc1a74"
   },
   "outputs": [],
   "source": [
    "np.array(128, dtype=np.int8)"
   ]
  },
  {
   "cell_type": "markdown",
   "metadata": {
    "id": "wY-yjFVIdFFy"
   },
   "source": [
    "<table border=\"1\" class=\"docutils\">\n",
    "<colgroup>\n",
    "<col width=\"14%\" />\n",
    "<col width=\"86%\" />\n",
    "</colgroup>\n",
    "<thead valign=\"bottom\">\n",
    "<tr class=\"row-odd\"><th class=\"head\"></th>\n",
    "<th class=\"head\">Number of matches</th>\n",
    "</tr>\n",
    "</thead>\n",
    "<tbody valign=\"top\">\n",
    "<tr class=\"row-even\"><td><tt class=\"docutils literal\"><span class=\"pre\">A</span></tt></td>\n",
    "<td>-128</td>\n",
    "</tr>\n",
    "<tr class=\"row-odd\"><td><tt class=\"docutils literal\"><span class=\"pre\">B</span></tt></td>\n",
    "<td>-127</td>\n",
    "</tr>\n",
    "<tr class=\"row-even\"><td><tt class=\"docutils literal\"><span class=\"pre\">C</span></tt></td>\n",
    "<td>0</td>\n",
    "</tr>\n",
    "<tr class=\"row-odd\"><td><tt class=\"docutils literal\"><span class=\"pre\">D</span></tt></td>\n",
    "<td>128</td>\n",
    "</tr>\n",
    "<tr class=\"row-even\"><td><tt class=\"docutils literal\"><span class=\"pre\">E</span></tt></td>\n",
    "<td>An error</td>\n",
    "</tr>\n",
    "</tbody>\n",
    "</table>"
   ]
  },
  {
   "cell_type": "markdown",
   "metadata": {
    "id": "W0In_rAUdFFy",
    "slideshow": {
     "slide_type": "notes"
    }
   },
   "source": [
    "Floating point precision is covered in detail at http://en.wikipedia.org/wiki/Floating_point."
   ]
  },
  {
   "cell_type": "markdown",
   "metadata": {
    "id": "sRaj1Xk_dFFy",
    "slideshow": {
     "slide_type": "subslide"
    }
   },
   "source": [
    "However, we can convert an array from one type to another with the ``astype`` method"
   ]
  },
  {
   "cell_type": "code",
   "execution_count": null,
   "metadata": {
    "id": "edjXMFOfdFFy",
    "jupyter": {
     "outputs_hidden": true
    },
    "outputId": "fd692bd3-682a-4212-cb75-a78675a2d5fd"
   },
   "outputs": [],
   "source": [
    "np.array(1, dtype=np.uint8).astype(np.float32)"
   ]
  },
  {
   "cell_type": "markdown",
   "metadata": {
    "id": "V_wuT6OkdFF3",
    "slideshow": {
     "slide_type": "slide"
    }
   },
   "source": [
    "## Creating Arrays"
   ]
  },
  {
   "cell_type": "markdown",
   "metadata": {
    "id": "nm97NAj2dFF3",
    "slideshow": {
     "slide_type": "fragment"
    }
   },
   "source": [
    "Above we created an array from an existing list. Now let's look into other ways in which we can create arrays."
   ]
  },
  {
   "cell_type": "markdown",
   "metadata": {
    "id": "c6PSNVNkdFF3",
    "slideshow": {
     "slide_type": "fragment"
    }
   },
   "source": [
    "A common need is to have an array initialized with a constant value. Very often this value is 0 or 1."
   ]
  },
  {
   "cell_type": "markdown",
   "metadata": {
    "id": "Dbdi-hfVdFF3",
    "slideshow": {
     "slide_type": "subslide"
    }
   },
   "source": [
    "`zeros` creates arrays of all zeros, with any desired dtype:"
   ]
  },
  {
   "cell_type": "code",
   "execution_count": null,
   "metadata": {
    "id": "ekP6fMiwdFF3",
    "jupyter": {
     "outputs_hidden": true
    },
    "outputId": "f97b5572-7d54-4b87-fe91-0b0b1553be63"
   },
   "outputs": [],
   "source": [
    "np.zeros(5, dtype=np.float64)"
   ]
  },
  {
   "cell_type": "code",
   "execution_count": null,
   "metadata": {
    "id": "R0yOBJaqdFF3",
    "jupyter": {
     "outputs_hidden": true
    },
    "outputId": "36babbcb-d19f-4ead-c87a-0bc6b05a18ee"
   },
   "outputs": [],
   "source": [
    "np.zeros(3, dtype=np.int32)"
   ]
  },
  {
   "cell_type": "markdown",
   "metadata": {
    "id": "k46my1iQdFF3",
    "slideshow": {
     "slide_type": "subslide"
    }
   },
   "source": [
    "and similarly for `ones`:"
   ]
  },
  {
   "cell_type": "code",
   "execution_count": null,
   "metadata": {
    "id": "19D0KioWdFF3",
    "jupyter": {
     "outputs_hidden": true
    },
    "outputId": "3ee64f6e-516f-46a0-c11e-fdabab92d28d"
   },
   "outputs": [],
   "source": [
    "print('5 ones:', np.ones(5, dtype=np.int32))"
   ]
  },
  {
   "cell_type": "markdown",
   "metadata": {
    "id": "cXZ-8bIRdFF3",
    "slideshow": {
     "slide_type": "subslide"
    }
   },
   "source": [
    "If we want an array initialized with an arbitrary value, we can create an empty array and then use the fill method to put the value we want into the array:"
   ]
  },
  {
   "cell_type": "code",
   "execution_count": null,
   "metadata": {
    "id": "bO3tVZWSdFF3",
    "jupyter": {
     "outputs_hidden": true
    },
    "outputId": "d1d54e3b-f507-4d7d-970b-f3b9962bf838"
   },
   "outputs": [],
   "source": [
    "a = np.empty(4, dtype=np.float32)\n",
    "a.fill(5.5)\n",
    "a"
   ]
  },
  {
   "cell_type": "markdown",
   "metadata": {
    "id": "xvlhj6lrdFF3",
    "slideshow": {
     "slide_type": "subslide"
    }
   },
   "source": [
    "Alternatives, such as:\n",
    "\n",
    " * ``np.ones(4) * 5.5``\n",
    " * ``np.zeros(4) + 5.5``\n",
    "\n",
    "are generally less efficient, but are also reasonable."
   ]
  },
  {
   "cell_type": "markdown",
   "metadata": {
    "id": "fsFidyvbdFF3",
    "slideshow": {
     "slide_type": "subslide"
    }
   },
   "source": [
    "### Filling arrays with sequences\n",
    "\n",
    "NumPy also offers the `arange` function, which works like the builtin `range` but returns an array instead of a list:"
   ]
  },
  {
   "cell_type": "code",
   "execution_count": null,
   "metadata": {
    "id": "3ZnB4j3OdFF3",
    "jupyter": {
     "outputs_hidden": true
    },
    "outputId": "8b67401a-f600-4ae4-8830-7567ef08c396",
    "slideshow": {
     "slide_type": "-"
    }
   },
   "outputs": [],
   "source": [
    "np.arange(10, dtype=np.float64)"
   ]
  },
  {
   "cell_type": "code",
   "execution_count": null,
   "metadata": {
    "id": "3K85XLk_dFF3",
    "jupyter": {
     "outputs_hidden": true
    },
    "outputId": "dff23ce5-d36f-424a-a79d-a0bb37c5bf99",
    "slideshow": {
     "slide_type": "fragment"
    }
   },
   "outputs": [],
   "source": [
    "np.arange(5, 7, 0.1)"
   ]
  },
  {
   "cell_type": "markdown",
   "metadata": {
    "id": "uvp1aT0ZdFF3",
    "slideshow": {
     "slide_type": "subslide"
    }
   },
   "source": [
    "The `linspace` and `logspace` functions to create linearly and logarithmically-spaced grids respectively, with a fixed number of points that include both ends of the specified interval:"
   ]
  },
  {
   "cell_type": "code",
   "execution_count": null,
   "metadata": {
    "id": "iHY59u10dFF4",
    "jupyter": {
     "outputs_hidden": true
    },
    "outputId": "2dc19336-782c-48d0-adf3-fb76a35baaa9"
   },
   "outputs": [],
   "source": [
    "print(\"A linear grid between 0 and 1:\")\n",
    "print(np.linspace(0, 1, 5))"
   ]
  },
  {
   "cell_type": "code",
   "execution_count": null,
   "metadata": {
    "id": "oEXP6w3EdFF4",
    "jupyter": {
     "outputs_hidden": true
    },
    "outputId": "d2a052a0-5fb0-48ea-e164-de5b410037e9",
    "slideshow": {
     "slide_type": "fragment"
    }
   },
   "outputs": [],
   "source": [
    "print(\"A logarithmic grid between 10**2 and 10**4:\")\n",
    "print(np.logspace(2, 4, 3))"
   ]
  },
  {
   "cell_type": "markdown",
   "metadata": {
    "id": "hNWc-AUDdFF4",
    "slideshow": {
     "slide_type": "subslide"
    }
   },
   "source": [
    "### Creating random arrays\n",
    "\n",
    "Finally, it is often useful to create arrays with random numbers that follow a specific distribution.  The `np.random` module contains a number of functions that can be used to this effect.\n",
    "First, we must import it:"
   ]
  },
  {
   "cell_type": "code",
   "execution_count": null,
   "metadata": {
    "id": "zEBGBtnXdFF4",
    "jupyter": {
     "outputs_hidden": true
    }
   },
   "outputs": [],
   "source": [
    "import numpy as np\n",
    "import numpy.random"
   ]
  },
  {
   "cell_type": "markdown",
   "metadata": {
    "id": "fxzge2MBdFF4",
    "slideshow": {
     "slide_type": "subslide"
    }
   },
   "source": [
    "To produce an array of 5 random samples taken from a standard normal distribution (0 mean and variance 1):"
   ]
  },
  {
   "cell_type": "code",
   "execution_count": null,
   "metadata": {
    "id": "YXGFnBEGdFF4",
    "jupyter": {
     "outputs_hidden": true
    },
    "outputId": "dd369b1a-234c-4211-8fa2-ccfc6b62d463"
   },
   "outputs": [],
   "source": [
    "print(np.random.randn(5))"
   ]
  },
  {
   "cell_type": "markdown",
   "metadata": {
    "id": "ADWKjQTUdFF4",
    "slideshow": {
     "slide_type": "subslide"
    }
   },
   "source": [
    "For an array of 5 samples from the normal distribution with a mean of 10 and a variance of 3:"
   ]
  },
  {
   "cell_type": "code",
   "execution_count": null,
   "metadata": {
    "id": "VTdQ-EhYdFF4",
    "jupyter": {
     "outputs_hidden": true
    },
    "outputId": "75c180d8-f52f-49d8-ef3a-740d395e0529"
   },
   "outputs": [],
   "source": [
    "norm10 = np.random.normal(10, 3, 5)\n",
    "print(norm10)"
   ]
  },
  {
   "cell_type": "markdown",
   "metadata": {
    "id": "B6w9fHSidFF4",
    "slideshow": {
     "slide_type": "subslide"
    }
   },
   "source": [
    "## Indexing with other arrays"
   ]
  },
  {
   "cell_type": "markdown",
   "metadata": {
    "id": "JSS-ds-adFF4"
   },
   "source": [
    "Above we saw how to index NumPy arrays with single numbers and slices, just like Python lists.  \n",
    "\n",
    "Arrays also allow for a more sophisticated kind of indexing that is very powerful: you can index an array with another array, and in particular with an array of boolean values.  \n",
    "\n",
    "This is particularly useful to extract information from an array that matches a certain condition."
   ]
  },
  {
   "cell_type": "markdown",
   "metadata": {
    "id": "9WERCfmxdFF4",
    "slideshow": {
     "slide_type": "subslide"
    }
   },
   "source": [
    "Consider for example that in the array `norm10` we want to replace all values above 9 with the value 0.  We can do so by first finding the *mask* that indicates where this condition is true or false:"
   ]
  },
  {
   "cell_type": "code",
   "execution_count": null,
   "metadata": {
    "id": "hpJDlbNYdFF4",
    "jupyter": {
     "outputs_hidden": true
    },
    "outputId": "a8b82040-c703-4cea-e864-189e687d75b5"
   },
   "outputs": [],
   "source": [
    "mask = norm10 > 9\n",
    "mask"
   ]
  },
  {
   "cell_type": "code",
   "execution_count": null,
   "metadata": {
    "id": "3tIO-dsCdFF4",
    "slideshow": {
     "slide_type": "subslide"
    }
   },
   "outputs": [],
   "source": [
    "nanarray=np.array([-1., 0., 1., np.NaN])"
   ]
  },
  {
   "cell_type": "code",
   "execution_count": null,
   "metadata": {
    "id": "WNpbf4FadFF4",
    "outputId": "e0020035-73b9-4e42-898e-e5a201c85e19",
    "slideshow": {
     "slide_type": "fragment"
    }
   },
   "outputs": [],
   "source": [
    "nanarray > 0.5"
   ]
  },
  {
   "cell_type": "code",
   "execution_count": null,
   "metadata": {
    "id": "U4FVYwpMdFF4",
    "outputId": "c6a8e047-6ede-4f8e-8371-2173ab17775e",
    "slideshow": {
     "slide_type": "fragment"
    }
   },
   "outputs": [],
   "source": [
    "nanarray <= 0.5"
   ]
  },
  {
   "cell_type": "code",
   "execution_count": null,
   "metadata": {
    "id": "N7hHAIvydFF5",
    "outputId": "a0e69d9c-bc34-4f51-83c0-b040566a9064",
    "slideshow": {
     "slide_type": "fragment"
    }
   },
   "outputs": [],
   "source": [
    "nanarray[~np.isnan(nanarray)] > 0.5"
   ]
  },
  {
   "cell_type": "markdown",
   "metadata": {
    "id": "0TgCsMMvdFF5",
    "slideshow": {
     "slide_type": "subslide"
    }
   },
   "source": [
    "Now that we have this mask, we can use it to either read those values or to reset them to 0:"
   ]
  },
  {
   "cell_type": "code",
   "execution_count": null,
   "metadata": {
    "id": "Ay7u-yVddFF5",
    "jupyter": {
     "outputs_hidden": true
    },
    "outputId": "d2f62660-f6b0-44f1-eff2-7374b6f050d2"
   },
   "outputs": [],
   "source": [
    "print(('Values above 9:', norm10[mask]))"
   ]
  },
  {
   "cell_type": "code",
   "execution_count": null,
   "metadata": {
    "id": "iWzvv4OUdFF5",
    "jupyter": {
     "outputs_hidden": true
    },
    "outputId": "bed60bcc-a3c5-4ce4-986c-49f494eb128b",
    "slideshow": {
     "slide_type": "subslide"
    }
   },
   "outputs": [],
   "source": [
    "print('Resetting all values above 9 to 0...')\n",
    "norm10[mask] = 0\n",
    "print(norm10)"
   ]
  },
  {
   "cell_type": "markdown",
   "metadata": {
    "id": "0JWpXWtddFF5",
    "slideshow": {
     "slide_type": "notes"
    }
   },
   "source": [
    "Whilst beyond the scope of this course, it is also worth knowing that a specific masked array object exists in NumPy.\n",
    "Further details are available at http://docs.scipy.org/doc/numpy/reference/maskedarray.generic.html"
   ]
  },
  {
   "cell_type": "markdown",
   "metadata": {
    "id": "yIdDWXf-dFF5",
    "slideshow": {
     "slide_type": "subslide"
    }
   },
   "source": [
    "## Arrays with more than one dimension"
   ]
  },
  {
   "cell_type": "markdown",
   "metadata": {
    "id": "kdBm3JnwdFF5",
    "slideshow": {
     "slide_type": "fragment"
    }
   },
   "source": [
    "Up until now all our examples have used one-dimensional arrays.  NumPy can also create arrays of arbitrary dimensions, and all the methods illustrated in the previous section work on arrays with more than one dimension."
   ]
  },
  {
   "cell_type": "markdown",
   "metadata": {
    "id": "X7bdRUyBdFF5",
    "slideshow": {
     "slide_type": "subslide"
    }
   },
   "source": [
    "A list of lists can be used to initialize a two dimensional array:"
   ]
  },
  {
   "cell_type": "code",
   "execution_count": null,
   "metadata": {
    "id": "gvT-td3kdFF5",
    "jupyter": {
     "outputs_hidden": true
    },
    "outputId": "d9a2fc9e-9d06-4d83-83f6-3e1d6af0a6d7"
   },
   "outputs": [],
   "source": [
    "lst2 = [[1, 2, 3], [4, 5, 6]]\n",
    "arr2 = np.array([[1, 2, 3], [4, 5, 6]])\n",
    "print(arr2)\n",
    "print(arr2.shape)"
   ]
  },
  {
   "cell_type": "markdown",
   "metadata": {
    "id": "8ta_9MJYdFF5",
    "slideshow": {
     "slide_type": "subslide"
    }
   },
   "source": [
    "With two-dimensional arrays we start seeing the power of NumPy: while nested lists can be indexed by repeatedly using the `[ ]` operator, multidimensional arrays support a much more natural indexing syntax using a single `[ ]` and a set of indices separated by commas:"
   ]
  },
  {
   "cell_type": "code",
   "execution_count": null,
   "metadata": {
    "id": "P-FcnmzodFF5",
    "jupyter": {
     "outputs_hidden": true
    },
    "outputId": "a7406615-bfb3-4068-f85e-6dcfb5c2332c"
   },
   "outputs": [],
   "source": [
    "print(lst2[0][1])\n",
    "print(arr2[0, 1])"
   ]
  },
  {
   "cell_type": "markdown",
   "metadata": {
    "id": "IA1r5IABdFF5",
    "slideshow": {
     "slide_type": "subslide"
    }
   },
   "source": [
    "Question: Why does the following example produce different results?"
   ]
  },
  {
   "cell_type": "code",
   "execution_count": null,
   "metadata": {
    "id": "FWE6tvmGdFF5",
    "jupyter": {
     "outputs_hidden": true
    },
    "outputId": "67638da2-d92e-4eda-af08-ceeca1691533",
    "scrolled": true
   },
   "outputs": [],
   "source": [
    "print(lst2[0:2][1])\n",
    "print(arr2[:, 1])"
   ]
  }
 ],
 "metadata": {
  "anaconda-cloud": {},
  "celltoolbar": "Slideshow",
  "colab": {
   "provenance": []
  },
  "kernelspec": {
   "display_name": "Python 3 (ipykernel)",
   "language": "python",
   "name": "python3"
  },
  "language_info": {
   "codemirror_mode": {
    "name": "ipython",
    "version": 3
   },
   "file_extension": ".py",
   "mimetype": "text/x-python",
   "name": "python",
   "nbconvert_exporter": "python",
   "pygments_lexer": "ipython3",
   "version": "3.10.9"
  },
  "livereveal": {
   "start_slideshow_at": "selected"
  }
 },
 "nbformat": 4,
 "nbformat_minor": 1
}
