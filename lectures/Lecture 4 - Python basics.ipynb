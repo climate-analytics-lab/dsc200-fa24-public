{
 "cells": [
  {
   "cell_type": "markdown",
   "id": "f15fef7e",
   "metadata": {
    "slideshow": {
     "slide_type": "slide"
    }
   },
   "source": [
    "# DSC200 - Lecture 4\n",
    "\n",
    "## Python Basics - part 3"
   ]
  },
  {
   "cell_type": "markdown",
   "id": "3c2d60e0",
   "metadata": {
    "slideshow": {
     "slide_type": "slide"
    }
   },
   "source": [
    "## Recap\n",
    "\n",
    "In the last lecture, we covered the following topics:\n",
    " - Dictionaries and sets\n",
    " - Control flow statements\n",
    "   - Loops\n",
    "   - Conditional statements"
   ]
  },
  {
   "cell_type": "markdown",
   "id": "9b6c8125",
   "metadata": {
    "slideshow": {
     "slide_type": "subslide"
    }
   },
   "source": [
    "Today, we will cover the following topics:\n",
    " - Functions\n",
    "    - Lambda functions\n",
    "\n",
    " - Map, Filter, and Reduce\n",
    " - Iterators and Generators\n",
    " - Recursion\n"
   ]
  },
  {
   "cell_type": "markdown",
   "id": "06048468",
   "metadata": {
    "slideshow": {
     "slide_type": "subslide"
    }
   },
   "source": [
    "## Functions\n",
    "\n",
    "Functions help improve readability and usability by encapsulating code.\n",
    "\n",
    "- Functions hide details of what exactly is going on inside a program.\n",
    "- Functions consist of parameters, a function body, and a return expression."
   ]
  },
  {
   "cell_type": "code",
   "execution_count": null,
   "id": "88f132f2",
   "metadata": {
    "slideshow": {
     "slide_type": "fragment"
    }
   },
   "outputs": [],
   "source": [
    "def boring_function():\n",
    "    pass\n",
    "\n",
    "print(boring_function())\n"
   ]
  },
  {
   "cell_type": "code",
   "execution_count": null,
   "id": "2174d99e",
   "metadata": {
    "slideshow": {
     "slide_type": "subslide"
    }
   },
   "outputs": [],
   "source": [
    "def example_function():\n",
    "    return \"This is an example function\"\n",
    "\n",
    "print(example_function())\n"
   ]
  },
  {
   "cell_type": "markdown",
   "id": "9f02eb1a",
   "metadata": {
    "slideshow": {
     "slide_type": "subslide"
    }
   },
   "source": [
    "### Parameters vs Arguments\n",
    "\n",
    "Parameters are the inputs defined by the function, while arguments are the actual values you pass in when calling the function."
   ]
  },
  {
   "cell_type": "code",
   "execution_count": null,
   "id": "a4821cd7",
   "metadata": {},
   "outputs": [],
   "source": [
    "def discriminant(a, b, c):\n",
    "    return b**2 - 4*a*c\n",
    "\n",
    "# Function call with arguments\n",
    "result = discriminant(1, 2, 3)\n",
    "print(result)\n"
   ]
  },
  {
   "cell_type": "markdown",
   "id": "762efa0d",
   "metadata": {
    "slideshow": {
     "slide_type": "subslide"
    }
   },
   "source": [
    "We can provide default values for parameters, which allows us to call the function without providing that parameter:"
   ]
  },
  {
   "cell_type": "code",
   "execution_count": null,
   "id": "918bd673",
   "metadata": {},
   "outputs": [],
   "source": [
    "def discriminant(a=0, b=0, c=0):\n",
    "    return b**2 - 4*a*c\n",
    "\n",
    "# Function call with arguments\n",
    "result = discriminant(1, 3)\n",
    "print(result)\n"
   ]
  },
  {
   "cell_type": "markdown",
   "id": "03370f04",
   "metadata": {
    "slideshow": {
     "slide_type": "subslide"
    }
   },
   "source": [
    "It is also possible to pass arguments by name, which allows you to pass arguments in any order:"
   ]
  },
  {
   "cell_type": "code",
   "execution_count": null,
   "id": "3cfd4a62",
   "metadata": {},
   "outputs": [],
   "source": [
    "def discriminant(a=0, b=0, c=0):\n",
    "    return b**2 - 4*a*c\n",
    "\n",
    "# Function call with arguments\n",
    "result = discriminant(c=1, a=2)\n",
    "print(result)\n"
   ]
  },
  {
   "cell_type": "markdown",
   "id": "1ba7b03f",
   "metadata": {
    "slideshow": {
     "slide_type": "subslide"
    }
   },
   "source": [
    "It's good practice to provide a docstring for your functions, which describes what the function does and what parameters it expects."
   ]
  },
  {
   "cell_type": "code",
   "execution_count": null,
   "id": "f7118d7f",
   "metadata": {},
   "outputs": [],
   "source": [
    "def discriminant(a=0, b=0, c=0):\n",
    "    \"\"\"\n",
    "    This function returns the discriminant of a quadratic equation.\n",
    "    \n",
    "    Parameters:\n",
    "    a (int): Coefficient of x^2, default is 0\n",
    "    b (int): Coefficient of x, default is 0\n",
    "    c (int): Constant, default is 0\n",
    "    \"\"\"\n",
    "    return b**2 - 4*a*c\n",
    "\n",
    "# Function call with arguments\n",
    "result = discriminant(c=1, a=2)\n",
    "print(result)\n"
   ]
  },
  {
   "cell_type": "markdown",
   "id": "823c0e4c",
   "metadata": {
    "slideshow": {
     "slide_type": "subslide"
    }
   },
   "source": [
    "## Unpacking Arguments\n",
    "\n",
    "Sometimes, you may want to pass a list or tuple of arguments to a function. You can use the `*` operator to unpack the arguments:\n",
    "\n",
    "You can also use the `**` operator to unpack keyword arguments."
   ]
  },
  {
   "cell_type": "code",
   "execution_count": null,
   "id": "592b642c",
   "metadata": {},
   "outputs": [],
   "source": [
    "def my_function(a, b, c):\n",
    "    print(a, b, c)\n",
    "\n",
    "args = [1, 2, 3]\n",
    "my_function(*args)\n",
    "\n",
    "kwargs = {'a': 1, 'b': 2, 'c': 3}\n",
    "my_function(**kwargs) # equivalent to my_function(a=1, b=2, c=3)"
   ]
  },
  {
   "cell_type": "markdown",
   "id": "6e16825a",
   "metadata": {
    "slideshow": {
     "slide_type": "subslide"
    }
   },
   "source": [
    "## Passing a Variable Number of Arguments\n",
    "\n",
    "If you don't know how many arguments you will need to pass to a function, you can use `*args` and `**kwargs` to pass a variable number of arguments.\n",
    "\n",
    "`*args` is used to pass a variable number of non-keyword arguments to a function, `**kwargs` is used to pass a variable number of keyword arguments to a function:\n"
   ]
  },
  {
   "cell_type": "code",
   "execution_count": null,
   "id": "f10f6479",
   "metadata": {},
   "outputs": [],
   "source": [
    "def my_function(*args, **kwargs):\n",
    "    print(args)\n",
    "    print(kwargs)\n",
    "    # some_other_function(*args, **kwargs)\n",
    "\n",
    "my_function(1, 2, 3, a=4, b=5)"
   ]
  },
  {
   "cell_type": "markdown",
   "id": "86c43ddb",
   "metadata": {
    "slideshow": {
     "slide_type": "subslide"
    }
   },
   "source": [
    "\n",
    "This is particularly useful when you are writing a function that wraps another function and you want to pass all (or most) of the arguments to the wrapped function."
   ]
  },
  {
   "cell_type": "markdown",
   "id": "a59057c0",
   "metadata": {
    "slideshow": {
     "slide_type": "fragment"
    }
   },
   "source": [
    "Note, however, that `*args` must come before `**kwargs` in the function definition. The actual names `args` and `kwargs` are not special though; you can use any names you like."
   ]
  },
  {
   "cell_type": "markdown",
   "id": "b242d5f9",
   "metadata": {
    "slideshow": {
     "slide_type": "slide"
    }
   },
   "source": [
    "## Lambda Functions\n",
    "\n",
    "Lambda functions are small, anonymous functions that can have any number of arguments, but only one expression.\n",
    "\n",
    "Lambda functions are useful when you need a simple function for a short period of time and are often used in functional programming, particularly with the `map()`, `filter()`, and `reduce()` functions.\n"
   ]
  },
  {
   "cell_type": "markdown",
   "id": "88b42fb0",
   "metadata": {
    "slideshow": {
     "slide_type": "subslide"
    }
   },
   "source": [
    "\n",
    "Lambda functions are defined using the `lambda` keyword, followed by a list of arguments, a colon, and an expression:"
   ]
  },
  {
   "cell_type": "code",
   "execution_count": null,
   "id": "41e7a771",
   "metadata": {},
   "outputs": [],
   "source": [
    "add = lambda x, y: x + y\n",
    "print(add(2, 3))"
   ]
  },
  {
   "cell_type": "markdown",
   "id": "fc47cbdf",
   "metadata": {
    "slideshow": {
     "slide_type": "subslide"
    }
   },
   "source": [
    "Note that lambda functions can only contain a single expression, so you can't use statements like `return` or `pass`.\n",
    "\n",
    "We can use inline logicals in lambda functions though:"
   ]
  },
  {
   "cell_type": "code",
   "execution_count": null,
   "id": "0b776995",
   "metadata": {},
   "outputs": [],
   "source": [
    "is_even = lambda x: x % 2 == 0\n",
    "print(is_even(3))"
   ]
  },
  {
   "cell_type": "markdown",
   "id": "cbc55cae",
   "metadata": {
    "slideshow": {
     "slide_type": "subslide"
    }
   },
   "source": [
    "\n",
    "Or:\n"
   ]
  },
  {
   "cell_type": "code",
   "execution_count": null,
   "id": "112455fb",
   "metadata": {},
   "outputs": [],
   "source": [
    "is_even = lambda x: x % 2 == 0 if x > 0 else False\n",
    "print(is_even(3))"
   ]
  },
  {
   "cell_type": "markdown",
   "id": "9f095e9a",
   "metadata": {
    "slideshow": {
     "slide_type": "subslide"
    }
   },
   "source": [
    "## Map, Filter, and Reduce"
   ]
  },
  {
   "cell_type": "markdown",
   "id": "25e2b6bb",
   "metadata": {
    "slideshow": {
     "slide_type": "subslide"
    }
   },
   "source": [
    "### Map\n",
    "\n",
    "The `map()` function applies a function to each item in an iterable (e.g., a list) and returns a new iterable with the results.\n",
    "\n",
    "You can use `map()` with a lambda function:"
   ]
  },
  {
   "cell_type": "code",
   "execution_count": null,
   "id": "eea8ad58",
   "metadata": {},
   "outputs": [],
   "source": [
    "numbers = [1, 2, 3, 4, 5]\n",
    "squared = map(lambda x: x**2, numbers)\n",
    "\n",
    "print(list(squared))"
   ]
  },
  {
   "cell_type": "markdown",
   "id": "b588ca0f",
   "metadata": {
    "slideshow": {
     "slide_type": "fragment"
    }
   },
   "source": [
    "Note, we use `list()` to convert the result to a list, as `map()` returns an iterator."
   ]
  },
  {
   "cell_type": "markdown",
   "id": "9142e8eb",
   "metadata": {
    "slideshow": {
     "slide_type": "notes"
    }
   },
   "source": [
    "This is not necessarily quicker than a list comprehension, but it can be more readable, especially when you are applying a function to multiple lists."
   ]
  },
  {
   "cell_type": "markdown",
   "id": "1633ba9f",
   "metadata": {
    "slideshow": {
     "slide_type": "subslide"
    }
   },
   "source": [
    "\n",
    "### Filter\n",
    "\n",
    "The `filter()` function applies a function to each item in an iterable and returns a new iterable with the items for which the function returns `True`.\n",
    "\n",
    "You can use `filter()` with a lambda function:\n"
   ]
  },
  {
   "cell_type": "code",
   "execution_count": null,
   "id": "1ccee931",
   "metadata": {},
   "outputs": [],
   "source": [
    "numbers = [1, 2, 3, 4, 5]\n",
    "even = filter(lambda x: x % 2 == 0, numbers)\n",
    "\n",
    "print(list(even))\n"
   ]
  },
  {
   "cell_type": "markdown",
   "id": "8505afa3",
   "metadata": {
    "slideshow": {
     "slide_type": "subslide"
    }
   },
   "source": [
    "### Reduce\n",
    "\n",
    "The `reduce()` function applies a function to the items in an iterable and returns a single value.\n",
    "\n",
    "This is also typically used with a lambda function:"
   ]
  },
  {
   "cell_type": "code",
   "execution_count": null,
   "id": "944ff4e1",
   "metadata": {},
   "outputs": [],
   "source": [
    "from functools import reduce \n",
    "\n",
    "numbers = [1, 2, 3, 4, 5]\n",
    "total = reduce(lambda x, y: x + y, numbers)\n",
    "\n",
    "print(total)"
   ]
  },
  {
   "cell_type": "markdown",
   "id": "46b19d24",
   "metadata": {
    "slideshow": {
     "slide_type": "slide"
    }
   },
   "source": [
    "## Iterators and Generators"
   ]
  },
  {
   "cell_type": "markdown",
   "id": "5b03efa5",
   "metadata": {
    "slideshow": {
     "slide_type": "subslide"
    }
   },
   "source": [
    "### Iterators\n",
    "\n",
    "An iterator is an object that represents a stream of data. It can be used to loop over a sequence of elements, one at a time.\n",
    "\n",
    "An iterator must implement two methods:\n",
    " - `__iter__()`: returns the iterator object itself\n",
    " - `__next__()`: returns the next element in the sequence\n",
    "\n",
    "When there are no more elements to return, `__next__()` should raise a `StopIteration` exception."
   ]
  },
  {
   "cell_type": "markdown",
   "id": "4dea4d9d",
   "metadata": {
    "slideshow": {
     "slide_type": "subslide"
    }
   },
   "source": [
    "\n",
    "You can create an iterator from an iterable object using the `iter()` function:\n"
   ]
  },
  {
   "cell_type": "code",
   "execution_count": null,
   "id": "1be248ec",
   "metadata": {},
   "outputs": [],
   "source": [
    "iterable = [1, 2, 3, 4, 5]\n",
    "iterator = iter(iterable)\n",
    "\n",
    "print(next(iterator))"
   ]
  },
  {
   "cell_type": "markdown",
   "id": "8ed82363",
   "metadata": {
    "slideshow": {
     "slide_type": "subslide"
    }
   },
   "source": [
    "\n",
    "\n",
    "### Generators\n",
    "\n",
    "Generators are a special type of iterator that can be used to create iterators in a more concise way.\n",
    "\n",
    "Generators are defined using the `yield` keyword, which allows you to return a value from a function without terminating the function.\n",
    "\n",
    "When you call a generator function, it returns a generator object, which is an iterator that can be used to iterate over the values produced by the generator function.\n"
   ]
  },
  {
   "cell_type": "markdown",
   "id": "b522b867",
   "metadata": {
    "slideshow": {
     "slide_type": "subslide"
    }
   },
   "source": [
    "You can create a generator using a generator function:"
   ]
  },
  {
   "cell_type": "code",
   "execution_count": null,
   "id": "94ef66f7",
   "metadata": {},
   "outputs": [],
   "source": [
    "def my_generator():\n",
    "    yield 1\n",
    "    yield 2\n",
    "    yield 3\n",
    "\n",
    "generator = my_generator()\n",
    "\n",
    "print(next(generator))"
   ]
  },
  {
   "cell_type": "markdown",
   "id": "54be9779",
   "metadata": {
    "slideshow": {
     "slide_type": "subslide"
    }
   },
   "source": [
    "You can also use a generator expression to create a generator:"
   ]
  },
  {
   "cell_type": "code",
   "execution_count": 1,
   "id": "da8210c9",
   "metadata": {},
   "outputs": [
    {
     "name": "stdout",
     "output_type": "stream",
     "text": [
      "0\n"
     ]
    }
   ],
   "source": [
    "generator = (x for x in range(3))\n",
    "\n",
    "print(next(generator))"
   ]
  },
  {
   "cell_type": "markdown",
   "id": "109221e9",
   "metadata": {
    "slideshow": {
     "slide_type": "fragment"
    }
   },
   "source": [
    "\n",
    "\n",
    "Generators are useful when you need to generate a large number of values, but you don't want to store them all in memory at once."
   ]
  },
  {
   "cell_type": "markdown",
   "id": "38896229",
   "metadata": {
    "slideshow": {
     "slide_type": "slide"
    }
   },
   "source": [
    "## Recursion\n",
    "\n",
    "Recursion is useful for problems that can be broken down into smaller, similar problems. A recursive function calls itself to solve subproblems."
   ]
  },
  {
   "cell_type": "markdown",
   "id": "dc0b698d",
   "metadata": {
    "slideshow": {
     "slide_type": "fragment"
    }
   },
   "source": [
    "When using recursion, you need to define a base case to prevent infinite recursion. This is the simplest form of the problem that can be solved directly. Then you can define the recursive case, which breaks the problem down into smaller subproblems."
   ]
  },
  {
   "cell_type": "code",
   "execution_count": null,
   "id": "1a4dcafb",
   "metadata": {
    "slideshow": {
     "slide_type": "subslide"
    }
   },
   "outputs": [],
   "source": [
    "# Example: Check if any element in the list is odd\n",
    "def anyOdd(lst):\n",
    "    if len(lst) == 0:  # Base case\n",
    "        return False\n",
    "    elif lst[0] % 2 == 1:  # If the first element is odd\n",
    "        return True\n",
    "    else:\n",
    "        smaller = lst[1:]\n",
    "        return anyOdd(smaller)\n",
    "\n",
    "print(anyOdd([2, 4, 6, 8]))  # False\n",
    "print(anyOdd([2, 4, 6, 7]))  # True\n"
   ]
  },
  {
   "cell_type": "markdown",
   "id": "ea0564d9",
   "metadata": {
    "slideshow": {
     "slide_type": "subslide"
    }
   },
   "source": [
    "### Factorial using Recursion\n",
    "\n",
    "The factorial of a number is the product of all positive integers less than or equal to that number. Write a recursive function to compute the factorial of a number."
   ]
  },
  {
   "cell_type": "code",
   "execution_count": null,
   "id": "ccd1be90",
   "metadata": {
    "slideshow": {
     "slide_type": "subslide"
    }
   },
   "outputs": [],
   "source": [
    "def fact(x):\n",
    "    if x == 0:  # Base case\n",
    "        # Blank A\n",
    "    else:\n",
    "        # Blank B\n",
    "\n",
    "print(fact(5))  # Output: 120"
   ]
  },
  {
   "cell_type": "markdown",
   "id": "3e57a54f",
   "metadata": {},
   "source": [
    "Options: \n",
    " - A. `return 0`; `fact(x)`\n",
    " - B. `return 1`; `return x * fact(x-1)`\n",
    " - C. `return 1`; `return (x-1) * fact(x-1)`\n",
    " - D. `return 0`; `return x * fact(x-1)`"
   ]
  },
  {
   "cell_type": "markdown",
   "id": "18f7df5e",
   "metadata": {
    "slideshow": {
     "slide_type": "slide"
    }
   },
   "source": [
    "\n",
    "## Summary\n",
    "\n",
    "Today, we covered the following topics:\n",
    " - Functions\n",
    "    - Lambda functions\n",
    " - Map, Filter, and Reduce\n",
    " - Iterators and Generators\n",
    " - Recursion"
   ]
  }
 ],
 "metadata": {
  "celltoolbar": "Slideshow",
  "kernelspec": {
   "display_name": "Python 3 (ipykernel)",
   "language": "python",
   "name": "python3"
  },
  "language_info": {
   "codemirror_mode": {
    "name": "ipython",
    "version": 3
   },
   "file_extension": ".py",
   "mimetype": "text/x-python",
   "name": "python",
   "nbconvert_exporter": "python",
   "pygments_lexer": "ipython3",
   "version": "3.9.20"
  }
 },
 "nbformat": 4,
 "nbformat_minor": 5
}
