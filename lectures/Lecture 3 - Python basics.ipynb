{
 "cells": [
  {
   "cell_type": "markdown",
   "id": "f15fef7e",
   "metadata": {
    "slideshow": {
     "slide_type": "slide"
    }
   },
   "source": [
    "# DSC200 - Lecture 3\n",
    "\n",
    "## Python Basics - part 2"
   ]
  },
  {
   "cell_type": "markdown",
   "id": "bf2140c1",
   "metadata": {
    "slideshow": {
     "slide_type": "slide"
    }
   },
   "source": [
    "## Announcement\n",
    "\n",
    "The first *weekly quiz* is now available on Canvas. It's only short and is due on Sunday, October 7th at 11:59pm.\n",
    "\n",
    "The questions are based on the material covered Monday and today."
   ]
  },
  {
   "cell_type": "markdown",
   "id": "3c2d60e0",
   "metadata": {
    "slideshow": {
     "slide_type": "slide"
    }
   },
   "source": [
    "## Recap\n",
    "\n",
    "In the last lecture, we covered the following topics:\n",
    " - The Python programming language\n",
    " - Basic data types and structures, including numbers, strings, and lists\n",
    " - Comments and print statements\n"
   ]
  },
  {
   "cell_type": "markdown",
   "id": "9b6c8125",
   "metadata": {
    "slideshow": {
     "slide_type": "subslide"
    }
   },
   "source": [
    "Today, we will cover the following topics:\n",
    " - Dictionaries and sets\n",
    " - Control flow statements\n",
    "   - Loops\n",
    "   - Conditional statements"
   ]
  },
  {
   "cell_type": "markdown",
   "id": "069bae03",
   "metadata": {
    "slideshow": {
     "slide_type": "slide"
    }
   },
   "source": [
    "## Dictionaries\n",
    "\n",
    "Dictionaries store key-value pairs:\n",
    "\n",
    "- Dictionaries are ordered collections of key-value pairs: `(key, value)`.\n",
    "- The key is a unique identifier used to find the value.\n",
    "- The value is the data associated with that key."
   ]
  },
  {
   "cell_type": "code",
   "execution_count": null,
   "id": "876f16fb",
   "metadata": {
    "slideshow": {
     "slide_type": "subslide"
    }
   },
   "outputs": [],
   "source": [
    "student = {'name': \"Veena\", 'age': 18, 'courses': [\"dsc10\", \"dsc20\"]}\n",
    "print(student)"
   ]
  },
  {
   "cell_type": "markdown",
   "id": "f4b434fe",
   "metadata": {
    "slideshow": {
     "slide_type": "fragment"
    }
   },
   "source": [
    "Keys must be of an immutable data type, while values can be of any type.\n",
    "\n",
    "Otherwise, keys could be changed, and the dictionary would not be able to find the value associated with the key!"
   ]
  },
  {
   "cell_type": "markdown",
   "id": "36d8848a",
   "metadata": {
    "slideshow": {
     "slide_type": "subslide"
    }
   },
   "source": [
    "### Retrieving Values\n",
    "\n",
    "`get(<key>)` and `<dict>[<key>]` both return the corresponding value if the key exists.\n",
    "\n",
    "\n",
    "However, `get(<key>)` returns `None` if the key does not exist, while `<dict>[<key>]` will throw an error."
   ]
  },
  {
   "cell_type": "code",
   "execution_count": null,
   "id": "dc5a61f5",
   "metadata": {
    "slideshow": {
     "slide_type": "fragment"
    }
   },
   "outputs": [],
   "source": [
    "student = {'name': \"Veena\", 'age': 18, 'courses': [\"dsc10\", \"dsc20\"]}\n",
    "print(student.get('name'))  # Output: Veena\n",
    "print(student.get('grade'))  # Output: None\n",
    "print(student['age'])  # Output: 18"
   ]
  },
  {
   "cell_type": "markdown",
   "id": "de856de6",
   "metadata": {
    "slideshow": {
     "slide_type": "fragment"
    }
   },
   "source": [
    "The second argument in `get()` helps handle missing keys more gracefully."
   ]
  },
  {
   "cell_type": "markdown",
   "id": "3ece0218",
   "metadata": {
    "slideshow": {
     "slide_type": "subslide"
    }
   },
   "source": [
    "### Adding and Updating Dictionary Values\n",
    "You can add or update key-value pairs in a dictionary very simply:\n"
   ]
  },
  {
   "cell_type": "code",
   "execution_count": null,
   "id": "2b04590d",
   "metadata": {
    "slideshow": {
     "slide_type": "fragment"
    }
   },
   "outputs": [],
   "source": [
    "student['id'] = 'A12345678'"
   ]
  },
  {
   "cell_type": "markdown",
   "id": "2d7549e4",
   "metadata": {
    "slideshow": {
     "slide_type": "fragment"
    }
   },
   "source": [
    "\n",
    "\n",
    "Since values can be mutable, you can modify them after creation."
   ]
  },
  {
   "cell_type": "code",
   "execution_count": null,
   "id": "5d607113",
   "metadata": {
    "slideshow": {
     "slide_type": "fragment"
    }
   },
   "outputs": [],
   "source": [
    "student['age'] = 19\n",
    "print(student)"
   ]
  },
  {
   "cell_type": "markdown",
   "id": "88bf321a",
   "metadata": {
    "slideshow": {
     "slide_type": "subslide"
    }
   },
   "source": [
    "### Accessing Keys, Values, and Pairs\n",
    "You can access all keys, values, and pairs using the following methods:\n",
    "- `keys()` - returns all keys.\n",
    "- `values()` - returns all values.\n",
    "- `items()` - returns key-value pairs."
   ]
  },
  {
   "cell_type": "code",
   "execution_count": null,
   "id": "70c85e8b",
   "metadata": {
    "slideshow": {
     "slide_type": "subslide"
    }
   },
   "outputs": [],
   "source": [
    "print(student.keys())  # Output: dict_keys(['name', 'age', 'courses'])\n",
    "print(student.values())  # Output: dict_values(['Veena', 19, ['dsc10', 'dsc20']])\n",
    "print(student.items())  # Output: dict_items([('name', 'Veena'), ('age', 19), ('courses', ['dsc10', 'dsc20'])])\n"
   ]
  },
  {
   "cell_type": "markdown",
   "id": "da7db344",
   "metadata": {
    "slideshow": {
     "slide_type": "notes"
    }
   },
   "source": [
    "Note, these methods return views, not actual lists. You can convert them to lists using `list()`."
   ]
  },
  {
   "cell_type": "markdown",
   "id": "bdaf365d",
   "metadata": {
    "slideshow": {
     "slide_type": "slide"
    }
   },
   "source": [
    "## Sets\n",
    "\n",
    "Sets are unordered collections of unique elements. They are mutable and can be changed after creation.\n"
   ]
  },
  {
   "cell_type": "markdown",
   "id": "6668f8f2",
   "metadata": {
    "slideshow": {
     "slide_type": "fragment"
    }
   },
   "source": [
    "Sets are useful for:\n",
    "- Removing duplicates from a list.\n",
    "- Checking for membership.\n",
    "- Performing set operations like union, intersection, difference, and symmetric difference."
   ]
  },
  {
   "cell_type": "markdown",
   "id": "f4dacf9b",
   "metadata": {
    "slideshow": {
     "slide_type": "subslide"
    }
   },
   "source": [
    "Let's see some examples of set operations:"
   ]
  },
  {
   "cell_type": "code",
   "execution_count": null,
   "id": "3d12cac7",
   "metadata": {},
   "outputs": [],
   "source": [
    "# Create a set of unique numbers\n",
    "my_set = {1, 2, 3, 4, 5, 5}\n",
    "print(my_set)  # Output: {1, 2, 3, 4, 5}\n",
    "\n",
    "my_set.add(6)\n",
    "print(my_set)  # Output: {1, 2, 3, 4, 5, 6}\n",
    "\n",
    "my_set.update([7, 8, 9])\n",
    "print(my_set)  # Output: {1, 2, 3, 4, 5, 6, 7, 8, 9}\n",
    "\n",
    "my_set.remove(9)\n",
    "print(my_set)  # Output: {1, 2, 3, 4, 5, 6, 7, 8}"
   ]
  },
  {
   "cell_type": "code",
   "execution_count": null,
   "id": "4e5e8430",
   "metadata": {
    "slideshow": {
     "slide_type": "subslide"
    }
   },
   "outputs": [],
   "source": [
    "# Now lets look at some set operations\n",
    "\n",
    "set1 = {1, 2, 3, 4, 5}\n",
    "set2 = {4, 5, 6, 7, 8}\n",
    "\n",
    "print(set1.union(set2))  # Output: {1, 2, 3, 4, 5, 6, 7, 8}\n",
    "\n",
    "print(set1.intersection(set2))  # Output: {4, 5}\n",
    "\n",
    "print(set1.difference(set2))  # Output: {1, 2, 3}\n"
   ]
  },
  {
   "cell_type": "markdown",
   "id": "2c8b302f",
   "metadata": {
    "slideshow": {
     "slide_type": "slide"
    }
   },
   "source": [
    "## Python Operators\n",
    "\n",
    "Operators are used to compute data in Python:\n",
    "\n",
    " - Arithmetic operators: `+`, `-`, `*`, `/`, `//`, `**`.\n",
    "    - Modulus operator `%` returns the remainder of the division.\n",
    " - Comparison operators: `==`, `!=`, `>`, `<`, `>=`, `<=`.\n",
    " - Assignment operators: `=`, `+=`, `-=`, `*=`,\n",
    "\n",
    " A full list of Python operators can be found [here](https://www.tutorialspoint.com/python/python_basic_operators.htm)."
   ]
  },
  {
   "cell_type": "code",
   "execution_count": null,
   "id": "c6e43c36",
   "metadata": {
    "slideshow": {
     "slide_type": "subslide"
    }
   },
   "outputs": [],
   "source": [
    "x = 11\n",
    "y = 3\n",
    "print(x % y)  # Output: 2\n",
    "print(x == y)  # Output: False\n",
    "print(1 + x / y)  # Output: 4.666666...\n",
    "x *= y\n",
    "print(x)  # Output: 33\n"
   ]
  },
  {
   "cell_type": "markdown",
   "id": "9b72bee2",
   "metadata": {
    "slideshow": {
     "slide_type": "slide"
    }
   },
   "source": [
    "## Control Flow: Conditionals and Loops\n",
    "\n",
    "Control flow allows for the manipulation of the order in which code is executed."
   ]
  },
  {
   "cell_type": "markdown",
   "id": "32064cb2",
   "metadata": {
    "slideshow": {
     "slide_type": "subslide"
    }
   },
   "source": [
    "### Conditionals\n",
    "\n",
    "Conditionals control which code block is executed based on specific conditions using `if`, `else`, and `elif`."
   ]
  },
  {
   "cell_type": "code",
   "execution_count": null,
   "id": "6e19a0c7",
   "metadata": {
    "slideshow": {
     "slide_type": "fragment"
    }
   },
   "outputs": [],
   "source": [
    "if x > y:\n",
    "    print(\"x is greater than y\")\n",
    "else:\n",
    "    print(\"x is not greater than y\")\n"
   ]
  },
  {
   "cell_type": "markdown",
   "id": "1b0c212d",
   "metadata": {
    "slideshow": {
     "slide_type": "subslide"
    }
   },
   "source": [
    "What is the output of the following code?\n",
    "\n",
    " - A. 100\n",
    " - B. 150\n",
    " - C. The size of the summer camp is exploding! It is 150\n",
    " - D. The size of the summer camp is at the limit"
   ]
  },
  {
   "cell_type": "code",
   "execution_count": null,
   "id": "a8170809",
   "metadata": {},
   "outputs": [],
   "source": [
    "number_of_students = 100\n",
    "\n",
    "additional_students = 50\n",
    "number_of_students += additional_students\n",
    "\n",
    "if number_of_students < 120:\n",
    "    print(number_of_students)\n",
    "elif number_of_students > 120:\n",
    "    print(\"The size of the summer camp is exploding! It is \", number_of_students)\n",
    "else:\n",
    "    print(\"The size of the summer camp is at the limit.\")"
   ]
  },
  {
   "cell_type": "markdown",
   "id": "bd45834f",
   "metadata": {
    "slideshow": {
     "slide_type": "slide"
    }
   },
   "source": [
    "### Loops\n",
    "\n",
    "Loops allow for repetitive tasks without writing redundant code.\n"
   ]
  },
  {
   "cell_type": "markdown",
   "id": "133dd706",
   "metadata": {
    "slideshow": {
     "slide_type": "subslide"
    }
   },
   "source": [
    "\n",
    "**`while` loop**: repeats while a condition is `True`."
   ]
  },
  {
   "cell_type": "code",
   "execution_count": null,
   "id": "bd04c1a9",
   "metadata": {},
   "outputs": [],
   "source": [
    "sum = 0\n",
    "endFound = False\n",
    "while not endFound:\n",
    "    x = int(input(\"Enter an int to add (0 to end): \"))\n",
    "    if x == 0:\n",
    "        endFound = True\n",
    "    else:\n",
    "        sum += x\n",
    "print(sum)\n"
   ]
  },
  {
   "cell_type": "markdown",
   "id": "110e916f",
   "metadata": {
    "slideshow": {
     "slide_type": "subslide"
    }
   },
   "source": [
    "**`for` loop**: repeats for a known (but unspecified) number of iterations."
   ]
  },
  {
   "cell_type": "code",
   "execution_count": null,
   "id": "a68af725",
   "metadata": {},
   "outputs": [],
   "source": [
    "my_list = [0, 4, 0, 6, 5]\n",
    "for item in my_list:\n",
    "    print(item)\n"
   ]
  },
  {
   "cell_type": "markdown",
   "id": "bdb3ed54",
   "metadata": {
    "slideshow": {
     "slide_type": "subslide"
    }
   },
   "source": [
    "This makes loops more predictable and easier to read. If you ever need the loop index, you can use the `enumerate()` function:"
   ]
  },
  {
   "cell_type": "code",
   "execution_count": null,
   "id": "99ffa867",
   "metadata": {},
   "outputs": [],
   "source": [
    "for i, item in enumerate(my_list):\n",
    "    print(i, item)"
   ]
  },
  {
   "cell_type": "markdown",
   "id": "97f3c6ca",
   "metadata": {
    "slideshow": {
     "slide_type": "subslide"
    }
   },
   "source": [
    "### Break and Continue\n",
    "\n",
    "- **`break`** terminates the loop.\n",
    "- **`continue`** skips the current iteration and moves to the next."
   ]
  },
  {
   "cell_type": "code",
   "execution_count": null,
   "id": "a3d40379",
   "metadata": {},
   "outputs": [],
   "source": [
    "text = input(\"User, type a word: \")\n",
    "for letter in text:\n",
    "    if letter == 'h':\n",
    "        break     # exit the loop\n",
    "    elif letter == 'a':\n",
    "        continue  # skip the rest of the block\n",
    "    print('Current Letter:', letter)\n",
    "print('the End')\n"
   ]
  },
  {
   "cell_type": "markdown",
   "id": "9754a84c",
   "metadata": {
    "slideshow": {
     "slide_type": "subslide"
    }
   },
   "source": [
    "## Practice Problem: Unique Characters in a String\n",
    "\n",
    "Write a program that checks if a given string has unique characters.\n",
    "\n",
    "*hint*: Sets are useful for removing duplicates."
   ]
  },
  {
   "cell_type": "code",
   "execution_count": null,
   "id": "a6762791",
   "metadata": {},
   "outputs": [],
   "source": []
  }
 ],
 "metadata": {
  "celltoolbar": "Slideshow",
  "kernelspec": {
   "display_name": "Python 3 (ipykernel)",
   "language": "python",
   "name": "python3"
  },
  "language_info": {
   "codemirror_mode": {
    "name": "ipython",
    "version": 3
   },
   "file_extension": ".py",
   "mimetype": "text/x-python",
   "name": "python",
   "nbconvert_exporter": "python",
   "pygments_lexer": "ipython3",
   "version": "3.9.20"
  }
 },
 "nbformat": 4,
 "nbformat_minor": 5
}
